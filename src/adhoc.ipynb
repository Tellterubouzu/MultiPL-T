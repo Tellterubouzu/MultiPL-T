{
 "cells": [
  {
   "cell_type": "code",
   "execution_count": 1,
   "metadata": {},
   "outputs": [],
   "source": [
    "from parser_utils import TsParser"
   ]
  },
  {
   "cell_type": "code",
   "execution_count": 2,
   "metadata": {},
   "outputs": [],
   "source": [
    "test_str_ret = '''\n",
    "function foo(x) { return x }\n",
    "'''\n",
    "ret_parsed = TsParser.parse(test_str_ret)\n",
    "test_str_no_ret = ''' \n",
    "function foo(x) { x+y }\n",
    "'''\n",
    "no_ret_parsed = TsParser.parse(test_str_no_ret)\n"
   ]
  },
  {
   "cell_type": "code",
   "execution_count": 3,
   "metadata": {},
   "outputs": [
    {
     "name": "stdout",
     "output_type": "stream",
     "text": [
      "[(<Node type=return_statement, start_point=(1, 18), end_point=(1, 26)>, 'return')]\n",
      "[]\n"
     ]
    }
   ],
   "source": [
    "ret_query = TsParser.query('has-return', ret_parsed)\n",
    "no_ret_query = TsParser.query('has-return', no_ret_parsed)\n",
    "print(ret_query)\n",
    "print(no_ret_query)"
   ]
  },
  {
   "cell_type": "code",
   "execution_count": 6,
   "metadata": {},
   "outputs": [
    {
     "name": "stdout",
     "output_type": "stream",
     "text": [
      "(program (comment) (function_declaration name: (identifier) parameters: (formal_parameters (required_parameter pattern: (identifier) type: (type_annotation (predefined_type))) (required_parameter pattern: (identifier) type: (type_annotation (predefined_type)))) return_type: (type_annotation (predefined_type)) body: (statement_block (lexical_declaration (variable_declarator name: (identifier) value: (binary_expression left: (identifier) right: (identifier)))) (variable_declaration (variable_declarator name: (identifier) value: (number))) (return_statement (binary_expression left: (identifier) right: (identifier))))) (comment) (comment) (function_declaration name: (identifier) parameters: (formal_parameters (required_parameter pattern: (identifier) type: (type_annotation (predefined_type)))) body: (statement_block (return_statement (binary_expression left: (identifier) right: (string (string_fragment)))))) (comment) (expression_statement (member_expression object: (this) property: (property_identifier))) (function_declaration name: (identifier) parameters: (formal_parameters (required_parameter pattern: (identifier))) body: (statement_block (return_statement (binary_expression left: (identifier) right: (identifier))))))\n"
     ]
    }
   ],
   "source": [
    "    "
   ]
  }
 ],
 "metadata": {
  "kernelspec": {
   "display_name": "Python 3",
   "language": "python",
   "name": "python3"
  },
  "language_info": {
   "codemirror_mode": {
    "name": "ipython",
    "version": 3
   },
   "file_extension": ".py",
   "mimetype": "text/x-python",
   "name": "python",
   "nbconvert_exporter": "python",
   "pygments_lexer": "ipython3",
   "version": "3.10.0"
  },
  "orig_nbformat": 4
 },
 "nbformat": 4,
 "nbformat_minor": 2
}
