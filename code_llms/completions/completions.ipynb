{
 "cells": [
  {
   "attachments": {},
   "cell_type": "markdown",
   "metadata": {},
   "source": [
    "# Bulk Completions\n",
    "\n",
    "Authors: Arjun Guha\n",
    "\n",
    "This notebook is a demo of how to use `completions.py`."
   ]
  },
  {
   "cell_type": "code",
   "execution_count": 1,
   "metadata": {},
   "outputs": [],
   "source": [
    "from completions import AutoModel, completions\n",
    "import pandas as pd"
   ]
  },
  {
   "attachments": {},
   "cell_type": "markdown",
   "metadata": {},
   "source": [
    "The cell below loads a model. See `completions.py` for other supported model types."
   ]
  },
  {
   "cell_type": "code",
   "execution_count": 2,
   "metadata": {},
   "outputs": [],
   "source": [
    "model = AutoModel(batch_size=50, path=\"bigcode/gpt_bigcode-santacoder\")"
   ]
  },
  {
   "cell_type": "code",
   "execution_count": 3,
   "metadata": {},
   "outputs": [],
   "source": [
    "problems = pd.DataFrame([\n",
    "    { \"prompt\": \"def factorial(n):\" },\n",
    "    { \"prompt\": \"def fib(n):\" }\n",
    "])\n",
    "\n",
    "settings = {\n",
    "    \"stop_sequences\": [\"\\nprint\", \"\\ndef\", \"\\nif\"],\n",
    "    \"temperature\": 0.2,\n",
    "    \"top_p\": 0.9,\n",
    "    \"max_tokens\": 100,\n",
    "    \"prompt_prefix\": \"\",\n",
    "    \"num_completions\": 2,\n",
    "    \"model\": model,\n",
    "}\n",
    "    \n"
   ]
  },
  {
   "attachments": {},
   "cell_type": "markdown",
   "metadata": {},
   "source": [
    "We save completions to a file to avoid regenerating duplicate completions."
   ]
  },
  {
   "cell_type": "code",
   "execution_count": 4,
   "metadata": {},
   "outputs": [
    {
     "name": "stdout",
     "output_type": "stream",
     "text": [
      "Found 4 existing completions.\n"
     ]
    },
    {
     "name": "stderr",
     "output_type": "stream",
     "text": [
      "  0%|          | 0/4 [00:00<?, ?it/s]Setting `pad_token_id` to `eos_token_id`:49152 for open-end generation.\n",
      "100%|██████████| 4/4 [00:13<00:00,  3.38s/it]\n"
     ]
    },
    {
     "data": {
      "text/html": [
       "<div>\n",
       "<style scoped>\n",
       "    .dataframe tbody tr th:only-of-type {\n",
       "        vertical-align: middle;\n",
       "    }\n",
       "\n",
       "    .dataframe tbody tr th {\n",
       "        vertical-align: top;\n",
       "    }\n",
       "\n",
       "    .dataframe thead th {\n",
       "        text-align: right;\n",
       "    }\n",
       "</style>\n",
       "<table border=\"1\" class=\"dataframe\">\n",
       "  <thead>\n",
       "    <tr style=\"text-align: right;\">\n",
       "      <th></th>\n",
       "      <th>prompt</th>\n",
       "      <th>completion_settings</th>\n",
       "      <th>completion</th>\n",
       "    </tr>\n",
       "  </thead>\n",
       "  <tbody>\n",
       "    <tr>\n",
       "      <th>0</th>\n",
       "      <td>def factorial(n):</td>\n",
       "      <td>{'temperature': 0.2, 'top_p': 0.9, 'max_tokens...</td>\n",
       "      <td>\\n    if n == 0:\\n        return 1\\n    else:\\...</td>\n",
       "    </tr>\n",
       "    <tr>\n",
       "      <th>1</th>\n",
       "      <td>def factorial(n):</td>\n",
       "      <td>{'temperature': 0.2, 'top_p': 0.9, 'max_tokens...</td>\n",
       "      <td>\\n    if n == 0:\\n        return 1\\n    else:\\...</td>\n",
       "    </tr>\n",
       "    <tr>\n",
       "      <th>2</th>\n",
       "      <td>def fib(n):</td>\n",
       "      <td>{'temperature': 0.2, 'top_p': 0.9, 'max_tokens...</td>\n",
       "      <td>\\n    if n &lt;= 1:\\n        return n\\n    return...</td>\n",
       "    </tr>\n",
       "    <tr>\n",
       "      <th>3</th>\n",
       "      <td>def fib(n):</td>\n",
       "      <td>{'temperature': 0.2, 'top_p': 0.9, 'max_tokens...</td>\n",
       "      <td>\\n    if n == 0:\\n        return 0\\n    elif n...</td>\n",
       "    </tr>\n",
       "  </tbody>\n",
       "</table>\n",
       "</div>"
      ],
      "text/plain": [
       "              prompt                                completion_settings  \\\n",
       "0  def factorial(n):  {'temperature': 0.2, 'top_p': 0.9, 'max_tokens...   \n",
       "1  def factorial(n):  {'temperature': 0.2, 'top_p': 0.9, 'max_tokens...   \n",
       "2        def fib(n):  {'temperature': 0.2, 'top_p': 0.9, 'max_tokens...   \n",
       "3        def fib(n):  {'temperature': 0.2, 'top_p': 0.9, 'max_tokens...   \n",
       "\n",
       "                                          completion  \n",
       "0  \\n    if n == 0:\\n        return 1\\n    else:\\...  \n",
       "1  \\n    if n == 0:\\n        return 1\\n    else:\\...  \n",
       "2  \\n    if n <= 1:\\n        return n\\n    return...  \n",
       "3  \\n    if n == 0:\\n        return 0\\n    elif n...  "
      ]
     },
     "execution_count": 4,
     "metadata": {},
     "output_type": "execute_result"
    }
   ],
   "source": [
    "results = completions(**settings, problems=problems, completions_path=\"/home/arjun/repos/codellm_tools/output.jsonl\")\n",
    "results"
   ]
  },
  {
   "attachments": {},
   "cell_type": "markdown",
   "metadata": {},
   "source": [
    "Let's try to regenerate. Notice that we don't get new results."
   ]
  },
  {
   "cell_type": "code",
   "execution_count": 5,
   "metadata": {},
   "outputs": [
    {
     "name": "stderr",
     "output_type": "stream",
     "text": [
      "  0%|          | 0/4 [00:00<?, ?it/s]Setting `pad_token_id` to `eos_token_id`:49152 for open-end generation.\n",
      "100%|██████████| 4/4 [00:00<00:00,  4.40it/s]\n"
     ]
    }
   ],
   "source": [
    "results = completions(**settings, problems=problems, completions_path=\"output.jsonl\")"
   ]
  },
  {
   "attachments": {},
   "cell_type": "markdown",
   "metadata": {},
   "source": [
    "Now let's add a problem."
   ]
  },
  {
   "cell_type": "code",
   "execution_count": 6,
   "metadata": {},
   "outputs": [
    {
     "name": "stdout",
     "output_type": "stream",
     "text": [
      "Found 2 existing completions.\n"
     ]
    },
    {
     "name": "stderr",
     "output_type": "stream",
     "text": [
      "  0%|          | 0/4 [00:00<?, ?it/s]Setting `pad_token_id` to `eos_token_id`:49152 for open-end generation.\n",
      "100%|██████████| 4/4 [00:01<00:00,  2.09it/s]\n"
     ]
    },
    {
     "data": {
      "text/html": [
       "<div>\n",
       "<style scoped>\n",
       "    .dataframe tbody tr th:only-of-type {\n",
       "        vertical-align: middle;\n",
       "    }\n",
       "\n",
       "    .dataframe tbody tr th {\n",
       "        vertical-align: top;\n",
       "    }\n",
       "\n",
       "    .dataframe thead th {\n",
       "        text-align: right;\n",
       "    }\n",
       "</style>\n",
       "<table border=\"1\" class=\"dataframe\">\n",
       "  <thead>\n",
       "    <tr style=\"text-align: right;\">\n",
       "      <th></th>\n",
       "      <th>prompt</th>\n",
       "      <th>completion_settings</th>\n",
       "      <th>completion</th>\n",
       "    </tr>\n",
       "  </thead>\n",
       "  <tbody>\n",
       "    <tr>\n",
       "      <th>0</th>\n",
       "      <td>def factorial(n):</td>\n",
       "      <td>{'temperature': 0.2, 'top_p': 0.9, 'max_tokens...</td>\n",
       "      <td>\\n    if n == 0:\\n        return 1\\n    else:\\...</td>\n",
       "    </tr>\n",
       "    <tr>\n",
       "      <th>1</th>\n",
       "      <td>def factorial(n):</td>\n",
       "      <td>{'temperature': 0.2, 'top_p': 0.9, 'max_tokens...</td>\n",
       "      <td>\\n    if n == 0:\\n        return 1\\n    else:\\...</td>\n",
       "    </tr>\n",
       "    <tr>\n",
       "      <th>2</th>\n",
       "      <td>def mack(n):</td>\n",
       "      <td>{'temperature': 0.2, 'top_p': 0.9, 'max_tokens...</td>\n",
       "      <td>\\n    \"\"\"\\n    mack(n) returns the mack number...</td>\n",
       "    </tr>\n",
       "    <tr>\n",
       "      <th>3</th>\n",
       "      <td>def mack(n):</td>\n",
       "      <td>{'temperature': 0.2, 'top_p': 0.9, 'max_tokens...</td>\n",
       "      <td>\\n    if n == 1:\\n        return 1\\n    else:\\...</td>\n",
       "    </tr>\n",
       "  </tbody>\n",
       "</table>\n",
       "</div>"
      ],
      "text/plain": [
       "              prompt                                completion_settings  \\\n",
       "0  def factorial(n):  {'temperature': 0.2, 'top_p': 0.9, 'max_tokens...   \n",
       "1  def factorial(n):  {'temperature': 0.2, 'top_p': 0.9, 'max_tokens...   \n",
       "2       def mack(n):  {'temperature': 0.2, 'top_p': 0.9, 'max_tokens...   \n",
       "3       def mack(n):  {'temperature': 0.2, 'top_p': 0.9, 'max_tokens...   \n",
       "\n",
       "                                          completion  \n",
       "0  \\n    if n == 0:\\n        return 1\\n    else:\\...  \n",
       "1  \\n    if n == 0:\\n        return 1\\n    else:\\...  \n",
       "2  \\n    \"\"\"\\n    mack(n) returns the mack number...  \n",
       "3  \\n    if n == 1:\\n        return 1\\n    else:\\...  "
      ]
     },
     "execution_count": 6,
     "metadata": {},
     "output_type": "execute_result"
    }
   ],
   "source": [
    "problems = pd.DataFrame([\n",
    "    { \"prompt\": \"def factorial(n):\" },\n",
    "    { \"prompt\": \"def mack(n):\" }\n",
    "])\n",
    "results = completions(**settings, problems=problems, completions_path=\"output.jsonl\")\n",
    "results"
   ]
  },
  {
   "attachments": {},
   "cell_type": "markdown",
   "metadata": {},
   "source": [
    "Notice that we just generated two new completions."
   ]
  }
 ],
 "metadata": {
  "kernelspec": {
   "display_name": "venv",
   "language": "python",
   "name": "python3"
  },
  "language_info": {
   "codemirror_mode": {
    "name": "ipython",
    "version": 3
   },
   "file_extension": ".py",
   "mimetype": "text/x-python",
   "name": "python",
   "nbconvert_exporter": "python",
   "pygments_lexer": "ipython3",
   "version": "3.8.10"
  },
  "orig_nbformat": 4
 },
 "nbformat": 4,
 "nbformat_minor": 2
}
