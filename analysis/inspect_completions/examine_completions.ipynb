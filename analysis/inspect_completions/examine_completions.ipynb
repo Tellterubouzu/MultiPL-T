{
 "cells": [
  {
   "cell_type": "code",
   "execution_count": 77,
   "metadata": {},
   "outputs": [],
   "source": [
    "import datasets \n",
    "import numpy as np\n",
    "import json\n",
    "import gzip\n",
    "from pathlib import Path\n",
    "\n",
    "def pass_k(n: int, c: int, k: int) -> float:\n",
    "    \"\"\"\n",
    "    Calculates 1 - comb(n - c, k) / comb(n, k).\n",
    "    \"\"\"\n",
    "    if n - c < k:\n",
    "        return 1.0\n",
    "    return 1.0 - np.prod(1.0 - k / np.arange(n - c + 1, n + 1))\n",
    "\n",
    "def add_success_ratio(ds):\n",
    "    statuses = ds[\"status\"]\n",
    "    sr = statuses.count(\"OK\") / len(statuses)\n",
    "    ds[\"success_ratio\"] = sr\n",
    "    return ds\n",
    "def gunzip_json(path): \n",
    "    \"\"\"\n",
    "    Reads a .json.gz file, but produces None if any error occurs.\n",
    "    \"\"\"\n",
    "    try:\n",
    "        with gzip.open(path, \"rt\") as f:\n",
    "            return json.load(f)\n",
    "    except Exception as e:\n",
    "        return None\n",
    "\n",
    "\n",
    "def parse_problem_name(name):\n",
    "    splitname = name.split(\"_\")\n",
    "    number = int(splitname[1])\n",
    "    pname = \"_\".join(splitname[2:])\n",
    "    return number, pname\n",
    "\n",
    "def trim_problem_name(name):\n",
    "    number, pname = parse_problem_name(name)\n",
    "    return f\"{number}_{pname}\"\n",
    "\n"
   ]
  },
  {
   "cell_type": "code",
   "execution_count": 78,
   "metadata": {},
   "outputs": [
    {
     "name": "stderr",
     "output_type": "stream",
     "text": [
      "Found cached dataset json (/home/jgouwar/.cache/huggingface/datasets/json/default-8ba98df331d2e277/0.0.0/e347ab1c932092252e717ff3f949105a4dd28b27e842dd53157d2f72e276c2e4)\n",
      "Loading cached processed dataset at /home/jgouwar/.cache/huggingface/datasets/json/default-8ba98df331d2e277/0.0.0/e347ab1c932092252e717ff3f949105a4dd28b27e842dd53157d2f72e276c2e4/cache-87e1329ebd82bf3b.arrow\n",
      "Loading cached processed dataset at /home/jgouwar/.cache/huggingface/datasets/json/default-8ba98df331d2e277/0.0.0/e347ab1c932092252e717ff3f949105a4dd28b27e842dd53157d2f72e276c2e4/cache-f8c57ba37ad0b39c.arrow\n",
      "Loading cached processed dataset at /home/jgouwar/.cache/huggingface/datasets/json/default-8ba98df331d2e277/0.0.0/e347ab1c932092252e717ff3f949105a4dd28b27e842dd53157d2f72e276c2e4/cache-4ffd0b533ea6c83a.arrow\n"
     ]
    }
   ],
   "source": [
    "base_full_ds = datasets.load_dataset(\"json\", data_files=\"starcoderbase-15b-results.jsonl\", split=\"train\")\n",
    "base_rkt_ds = base_full_ds.filter(lambda x: x[\"language\"] == \"rkt\").remove_columns([\"language\"])\n",
    "base_rkt_ds = base_rkt_ds.map(add_success_ratio)\n",
    "base_bad_rkt = base_rkt_ds.filter(lambda x: x[\"success_ratio\"] <= 0.1 and x[\"success_ratio\"] > 0.0)\n"
   ]
  },
  {
   "cell_type": "code",
   "execution_count": 79,
   "metadata": {},
   "outputs": [],
   "source": [
    "bad_rkt_good_compls = []\n",
    "for (prob, statues, compls, prompt) in zip(base_bad_rkt[\"problem\"], base_bad_rkt[\"status\"], base_bad_rkt[\"completion\"], base_bad_rkt[\"prompt\"]):\n",
    "    for (stat, compl) in zip(statues, compls):\n",
    "        if stat == \"OK\":\n",
    "            bad_rkt_good_compls.append((prob, prompt+compl))\n",
    "\n",
    "bad_rkt_probs = {}\n",
    "for (prob, compl) in bad_rkt_good_compls:\n",
    "    try: \n",
    "        bad_rkt_probs[prob].append(compl)\n",
    "    except KeyError:\n",
    "        bad_rkt_probs[prob] = [compl]\n",
    "\n"
   ]
  },
  {
   "cell_type": "code",
   "execution_count": 90,
   "metadata": {},
   "outputs": [
    {
     "name": "stderr",
     "output_type": "stream",
     "text": [
      "                                                                  \r"
     ]
    }
   ],
   "source": [
    "def multiple_results_to_ds(path):\n",
    "    ds_dict = {\n",
    "        \"problem\": [],\n",
    "        \"status\": [],\n",
    "        \"program\": [],\n",
    "    }\n",
    "    for file in path.glob(\"*.results.json.gz\"):\n",
    "        data = gunzip_json(file)\n",
    "        if data is None:\n",
    "            continue\n",
    "        ds_dict[\"problem\"].append(data[\"name\"])\n",
    "        programs = []\n",
    "        statuses = []\n",
    "        for res in data[\"results\"]:\n",
    "            statuses.append(res[\"status\"])\n",
    "            programs.append(res[\"program\"])\n",
    "        ds_dict[\"status\"].append(statuses)\n",
    "        ds_dict[\"program\"].append(programs)\n",
    "    return datasets.Dataset.from_dict(ds_dict).map(add_success_ratio)\n",
    "\n",
    "def get_probs(ds, type, thresh):\n",
    "    if type == \"good\":\n",
    "        good_ds = ds.filter(lambda x: x[\"success_ratio\"] >= thresh)\n",
    "    elif type == \"bad\":\n",
    "        good_ds = ds.filter(lambda x: x[\"success_ratio\"] <= thresh and x[\"success_ratio\"] > 0.0)\n",
    "    else:\n",
    "        raise ValueError(f\"Unknown type {type}\")\n",
    "    good_compls = []\n",
    "    for (prob, statues, progs) in zip(good_ds[\"problem\"], good_ds[\"status\"], good_ds[\"program\"]):\n",
    "        for (stat, prog) in zip(statues, progs):\n",
    "            if stat == \"OK\":\n",
    "                good_compls.append((prob, prog))\n",
    "    good_probs = {}\n",
    "    for (prob, prog) in good_compls:\n",
    "        prob_name = trim_problem_name(prob)\n",
    "        try: \n",
    "            good_probs[prob_name].append(prog)\n",
    "        except KeyError:\n",
    "            good_probs[prob_name] = [prog]\n",
    "    return good_probs\n",
    "\n",
    "def collect_candidates(bad_probs, good_probs):\n",
    "    candidates = {}\n",
    "    for prob in good_probs.keys():\n",
    "        if bad_probs.get(prob) is not None:\n",
    "            candidates[prob] = {\"bad\" : bad_probs[prob], \"good\" : good_probs[prob]}\n",
    "    return candidates\n",
    "   \n",
    "tuned_rkt_path = Path(\"tuned-rkt-results/eval_checkpoint-584/\")\n",
    "tuned_rkt_ds = multiple_results_to_ds(tuned_rkt_path)\n",
    "good_rkt_probs = get_probs(tuned_rkt_ds, \"good\", thresh=0.7)\n",
    "rkt_candidates = collect_candidates(bad_rkt_probs, good_rkt_probs)\n",
    "base_ocaml_path = Path(\"base-ml-results\")\n",
    "base_ocaml_ds = multiple_results_to_ds(base_ocaml_path)\n",
    "bad_ocaml_probs = get_probs(base_ocaml_ds, \"bad\", thresh=0.1)\n",
    "tuned_ocaml_path = Path(\"tuned-ml-results/eval_checkpoint-376/\")\n",
    "tuned_ocaml_ds = multiple_results_to_ds(tuned_ocaml_path)\n",
    "good_ocaml_probs = get_probs(tuned_ocaml_ds, \"good\", thresh=0.9)\n",
    "ocaml_candidates = collect_candidates(bad_ocaml_probs, good_ocaml_probs)\n",
    "\n"
   ]
  },
  {
   "cell_type": "code",
   "execution_count": 110,
   "metadata": {},
   "outputs": [
    {
     "name": "stdout",
     "output_type": "stream",
     "text": [
      "Good len:19\n",
      "Bad len:1\n"
     ]
    }
   ],
   "source": [
    "candidate = rkt_candidates[\"78_hex_key\"]\n",
    "bad_candidates = candidate[\"bad\"]\n",
    "good_candidates = candidate[\"good\"]\n",
    "print(\"Good len:\" + str(len(good_candidates)))\n",
    "print(\"Bad len:\" + str(len(bad_candidates)))"
   ]
  },
  {
   "cell_type": "code",
   "execution_count": null,
   "metadata": {},
   "outputs": [],
   "source": []
  },
  {
   "cell_type": "code",
   "execution_count": 92,
   "metadata": {},
   "outputs": [],
   "source": [
    "#print(good_candidates[0])"
   ]
  },
  {
   "cell_type": "code",
   "execution_count": 93,
   "metadata": {},
   "outputs": [
    {
     "data": {
      "text/plain": [
       "dict_keys(['27_flip_case', '82_prime_length', '56_correct_bracketing', '45_triangle_area', '61_correct_bracketing'])"
      ]
     },
     "execution_count": 93,
     "metadata": {},
     "output_type": "execute_result"
    }
   ],
   "source": [
    "ocaml_candidates.keys()"
   ]
  },
  {
   "cell_type": "code",
   "execution_count": 103,
   "metadata": {},
   "outputs": [
    {
     "name": "stdout",
     "output_type": "stream",
     "text": [
      "Good len: 19\n",
      "Bad len: 2\n"
     ]
    }
   ],
   "source": [
    "oc_candiate = ocaml_candidates['82_prime_length']\n",
    "oc_good_candidates = oc_candiate[\"good\"]\n",
    "oc_bad_candidates = oc_candiate[\"bad\"]\n",
    "print(f\"Good len: {len(oc_good_candidates)}\")\n",
    "print(f\"Bad len: {len(oc_bad_candidates)}\")"
   ]
  },
  {
   "cell_type": "code",
   "execution_count": 107,
   "metadata": {},
   "outputs": [
    {
     "name": "stdout",
     "output_type": "stream",
     "text": [
      "(**Write a function that takes a string and returns True if the string\n",
      "length is a prime number or False otherwise\n",
      "Examples\n",
      "prime_length('Hello') == True\n",
      "prime_length('abcdcba') == True\n",
      "prime_length('kittens') == True\n",
      "prime_length('orange') == False\n",
      "*)\n",
      "let prime_length (string : string) : bool =\n",
      "    let len = String.length string in\n",
      "    let rec is_prime n =\n",
      "        if n <= 1 then false\n",
      "        else if n = 2 then true\n",
      "        else if n mod 2 = 0 then false\n",
      "        else\n",
      "            let rec check i =\n",
      "                if i = n then true\n",
      "                else if n mod i = 0 then false\n",
      "                else check (i + 1)\n",
      "            in check 3\n",
      "    in is_prime len\n",
      "\n",
      "let assertions =\n",
      " let candidate = prime_length in\n",
      "  (assert ((candidate \"Hello\") = true));\n",
      "  (assert ((candidate \"abcdcba\") = true));\n",
      "  (assert ((candidate \"kittens\") = true));\n",
      "  (assert ((candidate \"orange\") = false));\n",
      "  (assert ((candidate \"wow\") = true));\n",
      "  (assert ((candidate \"world\") = true));\n",
      "  (assert ((candidate \"MadaM\") = true));\n",
      "  (assert ((candidate \"Wow\") = true));\n",
      "  (assert ((candidate \"\") = false));\n",
      "  (assert ((candidate \"HI\") = true));\n",
      "  (assert ((candidate \"go\") = true));\n",
      "  (assert ((candidate \"gogo\") = false));\n",
      "  (assert ((candidate \"aaaaaaaaaaaaaaa\") = false));\n",
      "  (assert ((candidate \"Madam\") = true));\n",
      "  (assert ((candidate \"M\") = false));\n",
      "  (assert ((candidate \"0\") = false));\n",
      "  ()\n",
      "\n"
     ]
    }
   ],
   "source": [
    "print(oc_bad_candidates[0])"
   ]
  },
  {
   "cell_type": "code",
   "execution_count": 109,
   "metadata": {},
   "outputs": [
    {
     "name": "stdout",
     "output_type": "stream",
     "text": [
      "(**Write a function that takes a string and returns True if the string\n",
      "length is a prime number or False otherwise\n",
      "Examples\n",
      "prime_length('Hello') == True\n",
      "prime_length('abcdcba') == True\n",
      "prime_length('kittens') == True\n",
      "prime_length('orange') == False\n",
      "*)\n",
      "let prime_length (string : string) : bool =\n",
      "  let rec is_prime (n : int) : bool =\n",
      "    if n <= 1 then false\n",
      "    else if n <= 3 then true\n",
      "    else if n mod 2 = 0 || n mod 3 = 0 then false\n",
      "    else\n",
      "      let rec loop i =\n",
      "        if i * i > n then true\n",
      "        else if n mod i = 0 || n mod (i + 2) = 0 then false\n",
      "        else loop (i + 6)\n",
      "      in loop 5\n",
      "  in is_prime (String.length string)\n",
      "\n",
      "let assertions =\n",
      " let candidate = prime_length in\n",
      "  (assert ((candidate \"Hello\") = true));\n",
      "  (assert ((candidate \"abcdcba\") = true));\n",
      "  (assert ((candidate \"kittens\") = true));\n",
      "  (assert ((candidate \"orange\") = false));\n",
      "  (assert ((candidate \"wow\") = true));\n",
      "  (assert ((candidate \"world\") = true));\n",
      "  (assert ((candidate \"MadaM\") = true));\n",
      "  (assert ((candidate \"Wow\") = true));\n",
      "  (assert ((candidate \"\") = false));\n",
      "  (assert ((candidate \"HI\") = true));\n",
      "  (assert ((candidate \"go\") = true));\n",
      "  (assert ((candidate \"gogo\") = false));\n",
      "  (assert ((candidate \"aaaaaaaaaaaaaaa\") = false));\n",
      "  (assert ((candidate \"Madam\") = true));\n",
      "  (assert ((candidate \"M\") = false));\n",
      "  (assert ((candidate \"0\") = false));\n",
      "  ()\n",
      "\n"
     ]
    }
   ],
   "source": [
    "print(oc_good_candidates[15])"
   ]
  }
 ],
 "metadata": {
  "kernelspec": {
   "display_name": "Python 3",
   "language": "python",
   "name": "python3"
  },
  "language_info": {
   "codemirror_mode": {
    "name": "ipython",
    "version": 3
   },
   "file_extension": ".py",
   "mimetype": "text/x-python",
   "name": "python",
   "nbconvert_exporter": "python",
   "pygments_lexer": "ipython3",
   "version": "3.10.0"
  },
  "orig_nbformat": 4
 },
 "nbformat": 4,
 "nbformat_minor": 2
}
