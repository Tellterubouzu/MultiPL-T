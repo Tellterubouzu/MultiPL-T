{
 "cells": [
  {
   "cell_type": "code",
   "execution_count": 123,
   "metadata": {},
   "outputs": [],
   "source": [
    "import datasets \n",
    "import numpy as np\n",
    "import json\n",
    "import gzip\n",
    "from pathlib import Path\n",
    "\n",
    "def pass_k(n: int, c: int, k: int) -> float:\n",
    "    \"\"\"\n",
    "    Calculates 1 - comb(n - c, k) / comb(n, k).\n",
    "    \"\"\"\n",
    "    if n - c < k:\n",
    "        return 1.0\n",
    "    return 1.0 - np.prod(1.0 - k / np.arange(n - c + 1, n + 1))\n",
    "\n",
    "def add_success_ratio(ds):\n",
    "    statuses = ds[\"status\"]\n",
    "    sr = statuses.count(\"OK\") / len(statuses)\n",
    "    ds[\"success_ratio\"] = sr\n",
    "    return ds\n",
    "def gunzip_json(path): \n",
    "    \"\"\"\n",
    "    Reads a .json.gz file, but produces None if any error occurs.\n",
    "    \"\"\"\n",
    "    try:\n",
    "        with gzip.open(path, \"rt\") as f:\n",
    "            return json.load(f)\n",
    "    except Exception as e:\n",
    "        return None\n",
    "\n",
    "\n",
    "def parse_problem_name(name):\n",
    "    splitname = name.split(\"_\")\n",
    "    number = int(splitname[1])\n",
    "    pname = \"_\".join(splitname[2:])\n",
    "    return number, pname\n",
    "\n",
    "def trim_problem_name(name):\n",
    "    number, pname = parse_problem_name(name)\n",
    "    return f\"{number}_{pname}\""
   ]
  },
  {
   "cell_type": "code",
   "execution_count": 142,
   "metadata": {},
   "outputs": [
    {
     "name": "stderr",
     "output_type": "stream",
     "text": [
      "Found cached dataset json (/home/jgouwar/.cache/huggingface/datasets/json/default-8ba98df331d2e277/0.0.0/e347ab1c932092252e717ff3f949105a4dd28b27e842dd53157d2f72e276c2e4)\n",
      "Loading cached processed dataset at /home/jgouwar/.cache/huggingface/datasets/json/default-8ba98df331d2e277/0.0.0/e347ab1c932092252e717ff3f949105a4dd28b27e842dd53157d2f72e276c2e4/cache-87e1329ebd82bf3b.arrow\n",
      "Loading cached processed dataset at /home/jgouwar/.cache/huggingface/datasets/json/default-8ba98df331d2e277/0.0.0/e347ab1c932092252e717ff3f949105a4dd28b27e842dd53157d2f72e276c2e4/cache-f8c57ba37ad0b39c.arrow\n",
      "Loading cached processed dataset at /home/jgouwar/.cache/huggingface/datasets/json/default-8ba98df331d2e277/0.0.0/e347ab1c932092252e717ff3f949105a4dd28b27e842dd53157d2f72e276c2e4/cache-4ffd0b533ea6c83a.arrow\n"
     ]
    },
    {
     "data": {
      "text/plain": [
       "200"
      ]
     },
     "execution_count": 142,
     "metadata": {},
     "output_type": "execute_result"
    }
   ],
   "source": [
    "base_full_ds = datasets.load_dataset(\"json\", data_files=\"starcoderbase-15b-results.jsonl\", split=\"train\")\n",
    "base_rkt_ds = base_full_ds.filter(lambda x: x[\"language\"] == \"rkt\").remove_columns([\"language\"])\n",
    "base_rkt_ds = base_rkt_ds.map(add_success_ratio)\n",
    "base_bad_rkt = base_rkt_ds.filter(lambda x: x[\"success_ratio\"] <= 0.1 and x[\"success_ratio\"] > 0.0)\n"
   ]
  },
  {
   "cell_type": "code",
   "execution_count": 125,
   "metadata": {},
   "outputs": [],
   "source": [
    "bad_rkt_good_compls = []\n",
    "for (prob, statues, compls, prompt) in zip(base_bad_rkt[\"problem\"], base_bad_rkt[\"status\"], base_bad_rkt[\"completion\"], base_bad_rkt[\"prompt\"]):\n",
    "    for (stat, compl) in zip(statues, compls):\n",
    "        if stat == \"OK\":\n",
    "            bad_rkt_good_compls.append((prob, prompt+compl))\n",
    "\n",
    "bad_rkt_probs = {}\n",
    "for (prob, compl) in bad_rkt_good_compls:\n",
    "    try: \n",
    "        bad_rkt_probs[prob].append(compl)\n",
    "    except KeyError:\n",
    "        bad_rkt_probs[prob] = [compl]\n",
    "\n"
   ]
  },
  {
   "cell_type": "code",
   "execution_count": 126,
   "metadata": {},
   "outputs": [
    {
     "name": "stderr",
     "output_type": "stream",
     "text": [
      "                                                      \r"
     ]
    }
   ],
   "source": [
    "tuned_rkt_path = Path(\"tuned-rkt-results/eval_checkpoint-584/\")\n",
    "tuned_rkt_dict = {\n",
    "    \"problem\": [],\n",
    "    \"status\": [],\n",
    "    \"program\": [],\n",
    "}\n",
    "for file in tuned_rkt_path.glob(\"*.results.json.gz\"):\n",
    "    data = gunzip_json(file)\n",
    "    if data is None:\n",
    "        continue\n",
    "    tuned_rkt_dict[\"problem\"].append(data[\"name\"])\n",
    "    programs = []\n",
    "    statuses = []\n",
    "    for res in data[\"results\"]:\n",
    "        statuses.append(res[\"status\"])\n",
    "        programs.append(res[\"program\"])\n",
    "    tuned_rkt_dict[\"status\"].append(statuses)\n",
    "    tuned_rkt_dict[\"program\"].append(programs)\n",
    "\n",
    "tuned_rkt_ds = datasets.Dataset.from_dict(tuned_rkt_dict).map(add_success_ratio)\n",
    "tuned_good_rkt_ds = tuned_rkt_ds.filter(lambda x: x[\"success_ratio\"] >= 0.7)\n",
    "tuned_good_rkt_ds[\"problem\"][0]\n",
    "tuned_good_rkt_ds[\"status\"][0]\n",
    "tuned_rkt_good_compls = []\n",
    "for (prob, statues, progs) in zip(tuned_good_rkt_ds[\"problem\"], tuned_good_rkt_ds[\"status\"], tuned_good_rkt_ds[\"program\"]):\n",
    "    for (stat, prog) in zip(statues, progs):\n",
    "        if stat == \"OK\":\n",
    "            tuned_rkt_good_compls.append((prob, prog))\n",
    "good_rkt_probs = {}\n",
    "for (prob, prog) in tuned_rkt_good_compls:\n",
    "    prob_name = trim_problem_name(prob)\n",
    "    try: \n",
    "        good_rkt_probs[prob_name].append(prog)\n",
    "    except KeyError:\n",
    "        good_rkt_probs[prob_name] = [prog]\n"
   ]
  },
  {
   "cell_type": "code",
   "execution_count": 127,
   "metadata": {},
   "outputs": [
    {
     "name": "stdout",
     "output_type": "stream",
     "text": [
      "dict_keys(['78_hex_key', '122_add_elements', '48_is_palindrome', '103_rounded_avg', '79_decimal_to_binary', '52_below_threshold', '7_filter_by_substring'])\n"
     ]
    }
   ],
   "source": [
    "\n",
    "candidates = {}\n",
    "for prob in good_rkt_probs.keys():\n",
    "    if bad_rkt_probs.get(prob) is not None:\n",
    "        candidates[prob] = {\"bad\" : bad_rkt_probs[prob], \"good\" : good_rkt_probs[prob]}\n",
    "print(candidates.keys())\n"
   ]
  },
  {
   "cell_type": "code",
   "execution_count": 139,
   "metadata": {},
   "outputs": [
    {
     "name": "stdout",
     "output_type": "stream",
     "text": [
      "Good len:19\n",
      "Bad len:1\n"
     ]
    }
   ],
   "source": [
    "candidate = candidates[\"78_hex_key\"]\n",
    "bad_candidates = candidate[\"bad\"]\n",
    "good_candidates = candidate[\"good\"]\n",
    "print(\"Good len:\" + str(len(good_candidates)))\n",
    "print(\"Bad len:\" + str(len(bad_candidates)))"
   ]
  },
  {
   "cell_type": "code",
   "execution_count": 140,
   "metadata": {},
   "outputs": [
    {
     "name": "stdout",
     "output_type": "stream",
     "text": [
      "#lang racket\n",
      "\n",
      ";; You have been tasked to write a function that receives \n",
      ";; a hexadecimal number as a string and counts the number of hexadecimal \n",
      ";; digits that are primes (prime number, or a prime, is a natural number \n",
      ";; greater than 1 that is not a product of two smaller natural numbers).\n",
      ";; Hexadecimal digits are 0, 1, 2, 3, 4, 5, 6, 7, 8, 9, A, B, C, D, E, F.\n",
      ";; Prime numbers are 2, 3, 5, 7, 11, 13, 17,...\n",
      ";; So you have to determine a number of the following digits: 2, 3, 5, 7, \n",
      ";; B (=decimal 11), D (=decimal 13).\n",
      ";; Note: you may assume the input is always correct or empty string, \n",
      ";; and symbols A,B,C,D,E,F are always uppercase.\n",
      ";; Examples:\n",
      ";; >>> (hex_key \"AB\")\n",
      ";; 1\n",
      ";; >>> (hex_key \"1077E\")\n",
      ";; 2\n",
      ";; >>> (hex_key \"ABED1A33\")\n",
      ";; 4\n",
      ";; >>> (hex_key \"123456789ABCDEF0\")\n",
      ";; 6\n",
      ";; >>> (hex_key \"2020\")\n",
      ";; 2\n",
      "(define (hex_key num)\n",
      "\n",
      "  (define (hex_key_helper num count)\n",
      "    (if (string=? num \"\")\n",
      "        count\n",
      "        (hex_key_helper (substring num 1 (string-length num))\n",
      "                        (+ count\n",
      "                           (if (member (string->number (substring num 0 1) 16)\n",
      "                                       '(2 3 5 7 11 13 17 19 23 29 31 37 41 43 47 53 59 61 67 71 73 79 83 89 97 101))\n",
      "                               1\n",
      "                               0)))))\n",
      "  (hex_key_helper num 0))\n",
      "\n"
     ]
    }
   ],
   "source": [
    "print(bad_candidates[0])"
   ]
  },
  {
   "cell_type": "code",
   "execution_count": 141,
   "metadata": {},
   "outputs": [
    {
     "name": "stdout",
     "output_type": "stream",
     "text": [
      "#lang racket\n",
      "\n",
      ";; You have been tasked to write a function that receives \n",
      ";; a hexadecimal number as a string and counts the number of hexadecimal \n",
      ";; digits that are primes (prime number, or a prime, is a natural number \n",
      ";; greater than 1 that is not a product of two smaller natural numbers).\n",
      ";; Hexadecimal digits are 0, 1, 2, 3, 4, 5, 6, 7, 8, 9, A, B, C, D, E, F.\n",
      ";; Prime numbers are 2, 3, 5, 7, 11, 13, 17,...\n",
      ";; So you have to determine a number of the following digits: 2, 3, 5, 7, \n",
      ";; B (=decimal 11), D (=decimal 13).\n",
      ";; Note: you may assume the input is always correct or empty string, \n",
      ";; and symbols A,B,C,D,E,F are always uppercase.\n",
      ";; Examples:\n",
      ";; >>> (hex_key \"AB\")\n",
      ";; 1\n",
      ";; >>> (hex_key \"1077E\")\n",
      ";; 2\n",
      ";; >>> (hex_key \"ABED1A33\")\n",
      ";; 4\n",
      ";; >>> (hex_key \"123456789ABCDEF0\")\n",
      ";; 6\n",
      ";; >>> (hex_key \"2020\")\n",
      ";; 2\n",
      "(define (hex_key num)\n",
      "\n",
      "\t(length \n",
      "\t\t(filter \n",
      "\t\t\t(lambda (x) \n",
      "\t\t\t\t(member x '(2 3 5 7 11 13)))\n",
      "\t\t\t(map \n",
      "\t\t\t\t(lambda (x) \n",
      "\t\t\t\t\t(string->number (string x) 16))\n",
      "\t\t\t\t(string->list num)))))\n",
      "(require rackunit)\n",
      "\n",
      "(define (test-humaneval) \n",
      "\n",
      "  (let (( candidate hex_key))\n",
      "    (check-equal? (candidate \"AB\") 1)\n",
      "    (check-equal? (candidate \"1077E\") 2)\n",
      "    (check-equal? (candidate \"ABED1A33\") 4)\n",
      "    (check-equal? (candidate \"2020\") 2)\n",
      "    (check-equal? (candidate \"123456789ABCDEF0\") 6)\n",
      "    (check-equal? (candidate \"112233445566778899AABBCCDDEEFF00\") 12)\n",
      "))\n",
      "\n",
      "(test-humaneval)\n"
     ]
    }
   ],
   "source": [
    "print(good_candidates[0])"
   ]
  }
 ],
 "metadata": {
  "kernelspec": {
   "display_name": "Python 3",
   "language": "python",
   "name": "python3"
  },
  "language_info": {
   "codemirror_mode": {
    "name": "ipython",
    "version": 3
   },
   "file_extension": ".py",
   "mimetype": "text/x-python",
   "name": "python",
   "nbconvert_exporter": "python",
   "pygments_lexer": "ipython3",
   "version": "3.10.0"
  },
  "orig_nbformat": 4
 },
 "nbformat": 4,
 "nbformat_minor": 2
}
