{
 "cells": [
  {
   "cell_type": "code",
   "execution_count": 77,
   "metadata": {},
   "outputs": [],
   "source": [
    "import datasets \n",
    "import numpy as np\n",
    "import json\n",
    "import gzip\n",
    "from pathlib import Path\n",
    "\n",
    "def pass_k(n: int, c: int, k: int) -> float:\n",
    "    \"\"\"\n",
    "    Calculates 1 - comb(n - c, k) / comb(n, k).\n",
    "    \"\"\"\n",
    "    if n - c < k:\n",
    "        return 1.0\n",
    "    return 1.0 - np.prod(1.0 - k / np.arange(n - c + 1, n + 1))\n",
    "\n",
    "def add_success_ratio(ds):\n",
    "    statuses = ds[\"status\"]\n",
    "    sr = statuses.count(\"OK\") / len(statuses)\n",
    "    ds[\"success_ratio\"] = sr\n",
    "    return ds\n",
    "def gunzip_json(path): \n",
    "    \"\"\"\n",
    "    Reads a .json.gz file, but produces None if any error occurs.\n",
    "    \"\"\"\n",
    "    try:\n",
    "        with gzip.open(path, \"rt\") as f:\n",
    "            return json.load(f)\n",
    "    except Exception as e:\n",
    "        return None\n",
    "\n",
    "\n",
    "def parse_problem_name(name):\n",
    "    splitname = name.split(\"_\")\n",
    "    number = int(splitname[1])\n",
    "    pname = \"_\".join(splitname[2:])\n",
    "    return number, pname\n",
    "\n",
    "def trim_problem_name(name):\n",
    "    number, pname = parse_problem_name(name)\n",
    "    return f\"{number}_{pname}\"\n",
    "\n"
   ]
  },
  {
   "cell_type": "code",
   "execution_count": 78,
   "metadata": {},
   "outputs": [
    {
     "name": "stderr",
     "output_type": "stream",
     "text": [
      "Found cached dataset json (/home/jgouwar/.cache/huggingface/datasets/json/default-8ba98df331d2e277/0.0.0/e347ab1c932092252e717ff3f949105a4dd28b27e842dd53157d2f72e276c2e4)\n",
      "Loading cached processed dataset at /home/jgouwar/.cache/huggingface/datasets/json/default-8ba98df331d2e277/0.0.0/e347ab1c932092252e717ff3f949105a4dd28b27e842dd53157d2f72e276c2e4/cache-87e1329ebd82bf3b.arrow\n",
      "Loading cached processed dataset at /home/jgouwar/.cache/huggingface/datasets/json/default-8ba98df331d2e277/0.0.0/e347ab1c932092252e717ff3f949105a4dd28b27e842dd53157d2f72e276c2e4/cache-f8c57ba37ad0b39c.arrow\n",
      "Loading cached processed dataset at /home/jgouwar/.cache/huggingface/datasets/json/default-8ba98df331d2e277/0.0.0/e347ab1c932092252e717ff3f949105a4dd28b27e842dd53157d2f72e276c2e4/cache-4ffd0b533ea6c83a.arrow\n"
     ]
    }
   ],
   "source": [
    "base_full_ds = datasets.load_dataset(\"json\", data_files=\"starcoderbase-15b-results.jsonl\", split=\"train\")\n",
    "base_rkt_ds = base_full_ds.filter(lambda x: x[\"language\"] == \"rkt\").remove_columns([\"language\"])\n",
    "base_rkt_ds = base_rkt_ds.map(add_success_ratio)\n",
    "base_bad_rkt = base_rkt_ds.filter(lambda x: x[\"success_ratio\"] <= 0.1 and x[\"success_ratio\"] > 0.0)\n"
   ]
  },
  {
   "cell_type": "code",
   "execution_count": 79,
   "metadata": {},
   "outputs": [],
   "source": [
    "bad_rkt_good_compls = []\n",
    "for (prob, statues, compls, prompt) in zip(base_bad_rkt[\"problem\"], base_bad_rkt[\"status\"], base_bad_rkt[\"completion\"], base_bad_rkt[\"prompt\"]):\n",
    "    for (stat, compl) in zip(statues, compls):\n",
    "        if stat == \"OK\":\n",
    "            bad_rkt_good_compls.append((prob, prompt+compl))\n",
    "\n",
    "bad_rkt_probs = {}\n",
    "for (prob, compl) in bad_rkt_good_compls:\n",
    "    try: \n",
    "        bad_rkt_probs[prob].append(compl)\n",
    "    except KeyError:\n",
    "        bad_rkt_probs[prob] = [compl]\n",
    "\n"
   ]
  },
  {
   "cell_type": "code",
   "execution_count": 80,
   "metadata": {},
   "outputs": [
    {
     "name": "stderr",
     "output_type": "stream",
     "text": [
      "                                                                  \r"
     ]
    }
   ],
   "source": [
    "def multiple_results_to_ds(path):\n",
    "    ds_dict = {\n",
    "        \"problem\": [],\n",
    "        \"status\": [],\n",
    "        \"program\": [],\n",
    "    }\n",
    "    for file in path.glob(\"*.results.json.gz\"):\n",
    "        data = gunzip_json(file)\n",
    "        if data is None:\n",
    "            continue\n",
    "        ds_dict[\"problem\"].append(data[\"name\"])\n",
    "        programs = []\n",
    "        statuses = []\n",
    "        for res in data[\"results\"]:\n",
    "            statuses.append(res[\"status\"])\n",
    "            programs.append(res[\"program\"])\n",
    "        ds_dict[\"status\"].append(statuses)\n",
    "        ds_dict[\"program\"].append(programs)\n",
    "    return datasets.Dataset.from_dict(ds_dict).map(add_success_ratio)\n",
    "\n",
    "def get_probs(ds, type, thresh):\n",
    "    if type == \"good\":\n",
    "        good_ds = ds.filter(lambda x: x[\"success_ratio\"] >= thresh)\n",
    "    elif type == \"bad\":\n",
    "        good_ds = ds.filter(lambda x: x[\"success_ratio\"] <= thresh and x[\"success_ratio\"] > 0.0)\n",
    "    else:\n",
    "        raise ValueError(f\"Unknown type {type}\")\n",
    "    good_compls = []\n",
    "    for (prob, statues, progs) in zip(good_ds[\"problem\"], good_ds[\"status\"], good_ds[\"program\"]):\n",
    "        for (stat, prog) in zip(statues, progs):\n",
    "            if stat == \"OK\":\n",
    "                good_compls.append((prob, prog))\n",
    "    good_probs = {}\n",
    "    for (prob, prog) in good_compls:\n",
    "        prob_name = trim_problem_name(prob)\n",
    "        try: \n",
    "            good_probs[prob_name].append(prog)\n",
    "        except KeyError:\n",
    "            good_probs[prob_name] = [prog]\n",
    "    return good_probs\n",
    "\n",
    "def collect_candidates(bad_probs, good_probs):\n",
    "    candidates = {}\n",
    "    for prob in good_probs.keys():\n",
    "        if bad_probs.get(prob) is not None:\n",
    "            candidates[prob] = {\"bad\" : bad_probs[prob], \"good\" : good_probs[prob]}\n",
    "    return candidates\n",
    "   \n",
    "tuned_rkt_path = Path(\"tuned-rkt-results/eval_checkpoint-584/\")\n",
    "tuned_rkt_ds = multiple_results_to_ds(tuned_rkt_path)\n",
    "good_rkt_probs = get_probs(tuned_rkt_ds, \"good\", thresh=0.7)\n",
    "rkt_candidates = collect_candidates(bad_rkt_probs, good_rkt_probs)\n",
    "base_ocaml_path = Path(\"base-ml-results\")\n",
    "base_ocaml_ds = multiple_results_to_ds(base_ocaml_path)\n",
    "bad_ocaml_probs = get_probs(base_ocaml_ds, \"bad\", thresh=0.1)\n",
    "tuned_ocaml_path = Path(\"tuned-ml-results/eval_checkpoint-376/\")\n",
    "tuned_ocaml_ds = multiple_results_to_ds(tuned_ocaml_path)\n",
    "good_ocaml_probs = get_probs(tuned_ocaml_ds, \"good\", thresh=0.5)\n",
    "ocaml_candidates = collect_candidates(bad_ocaml_probs, good_ocaml_probs)\n",
    "\n"
   ]
  },
  {
   "cell_type": "code",
   "execution_count": 81,
   "metadata": {},
   "outputs": [
    {
     "name": "stdout",
     "output_type": "stream",
     "text": [
      "Good len:19\n",
      "Bad len:1\n"
     ]
    }
   ],
   "source": [
    "candidate = rkt_candidates[\"78_hex_key\"]\n",
    "bad_candidates = candidate[\"bad\"]\n",
    "good_candidates = candidate[\"good\"]\n",
    "print(\"Good len:\" + str(len(good_candidates)))\n",
    "print(\"Bad len:\" + str(len(bad_candidates)))"
   ]
  },
  {
   "cell_type": "code",
   "execution_count": null,
   "metadata": {},
   "outputs": [],
   "source": []
  },
  {
   "cell_type": "code",
   "execution_count": 82,
   "metadata": {},
   "outputs": [],
   "source": [
    "#print(good_candidates[0])"
   ]
  },
  {
   "cell_type": "code",
   "execution_count": 83,
   "metadata": {},
   "outputs": [
    {
     "data": {
      "text/plain": [
       "dict_keys(['27_flip_case', '9_rolling_max', '82_prime_length', '56_correct_bracketing', '45_triangle_area', '61_correct_bracketing', '157_right_angle_triangle', '11_string_xor'])"
      ]
     },
     "execution_count": 83,
     "metadata": {},
     "output_type": "execute_result"
    }
   ],
   "source": [
    "ocaml_candidates.keys()"
   ]
  },
  {
   "cell_type": "code",
   "execution_count": 84,
   "metadata": {},
   "outputs": [
    {
     "name": "stdout",
     "output_type": "stream",
     "text": [
      "Good len: 20\n",
      "Bad len: 1\n"
     ]
    }
   ],
   "source": [
    "oc_candiate = ocaml_candidates['9_rolling_max']\n",
    "oc_good_candidates = oc_candiate[\"good\"]\n",
    "oc_bad_candidates = oc_candiate[\"bad\"]\n",
    "print(f\"Good len: {len(oc_good_candidates)}\")\n",
    "print(f\"Bad len: {len(oc_bad_candidates)}\")"
   ]
  },
  {
   "cell_type": "code",
   "execution_count": 85,
   "metadata": {},
   "outputs": [
    {
     "name": "stdout",
     "output_type": "stream",
     "text": [
      "(**Given length of a side and high return area for a triangle.\n",
      ">>> triangle_area(5, 3)\n",
      "7.5\n",
      "*)\n",
      "let triangle_area (a : int) (h : int) : float =\n",
      "  let area = float_of_int (a * h) /. 2. in\n",
      "  area\n",
      "\n",
      "let assertions =\n",
      " let candidate = triangle_area in\n",
      "  (assert ((candidate 5 3) = 7.5));\n",
      "  (assert ((candidate 2 2) = 2.0));\n",
      "  (assert ((candidate 10 8) = 40.0));\n",
      "  ()\n",
      "\n"
     ]
    }
   ],
   "source": [
    "print(oc_bad_candidates[0])"
   ]
  },
  {
   "cell_type": "code",
   "execution_count": 86,
   "metadata": {},
   "outputs": [
    {
     "name": "stdout",
     "output_type": "stream",
     "text": [
      "(**Given length of a side and high return area for a triangle.\n",
      ">>> triangle_area(5, 3)\n",
      "7.5\n",
      "*)\n",
      "let triangle_area (a : int) (h : int) : float = (float_of_int h) *. (float_of_int a) /. 2.\n",
      "\n",
      "let assertions =\n",
      " let candidate = triangle_area in\n",
      "  (assert ((candidate 5 3) = 7.5));\n",
      "  (assert ((candidate 2 2) = 2.0));\n",
      "  (assert ((candidate 10 8) = 40.0));\n",
      "  ()\n",
      "\n"
     ]
    }
   ],
   "source": [
    "print(oc_good_candidates[0])"
   ]
  }
 ],
 "metadata": {
  "kernelspec": {
   "display_name": "Python 3",
   "language": "python",
   "name": "python3"
  },
  "language_info": {
   "codemirror_mode": {
    "name": "ipython",
    "version": 3
   },
   "file_extension": ".py",
   "mimetype": "text/x-python",
   "name": "python",
   "nbconvert_exporter": "python",
   "pygments_lexer": "ipython3",
   "version": "3.10.0"
  },
  "orig_nbformat": 4
 },
 "nbformat": 4,
 "nbformat_minor": 2
}
