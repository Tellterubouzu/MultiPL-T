{
 "cells": [
  {
   "cell_type": "code",
   "execution_count": 1,
   "id": "d951f6bf-9c70-446e-a741-a0ec1707827b",
   "metadata": {},
   "outputs": [],
   "source": [
    "PROMPT = \"\"\"\n",
    "-- You are given a table of numbers.\n",
    "-- You need to return the sum of squared numbers in the given table,\n",
    "-- round each element in the table to the upper int(Ceiling) first.\n",
    "--\n",
    "-- Examples:\n",
    "-- >>> lst({1.0, 2.0, 3.0})\n",
    "-- 14\n",
    "-- >>> lst({1.0, 4.0, 9.0})\n",
    "-- 98\n",
    "-- >>> lst({1.0, 3.0, 5.0, 7.0})\n",
    "-- 84\n",
    "-- >>> lst({1.4, 4.2, 0.0})\n",
    "-- 29\n",
    "-- >>> lst({-2.4, 1.0, 1.0})\n",
    "-- 6\n",
    "local function sum_squares(lst)\n",
    "\"\"\""
   ]
  },
  {
   "cell_type": "code",
   "execution_count": 2,
   "id": "3cc68cf9-d1c3-4d14-9df5-fe0d88d228e5",
   "metadata": {},
   "outputs": [
    {
     "name": "stderr",
     "output_type": "stream",
     "text": [
      "/home/elleven/.local/lib/python3.11/site-packages/tqdm/auto.py:21: TqdmWarning: IProgress not found. Please update jupyter and ipywidgets. See https://ipywidgets.readthedocs.io/en/stable/user_install.html\n",
      "  from .autonotebook import tqdm as notebook_tqdm\n"
     ]
    }
   ],
   "source": [
    "from transformers import AutoModelForCausalLM, AutoTokenizer\n",
    "tokenizer = AutoTokenizer.from_pretrained(\"bigcode/starcoderbase-1b\", use_fast=False)\n",
    "model = AutoModelForCausalLM.from_pretrained(\"bigcode/starcoderbase-1b\").cuda()"
   ]
  },
  {
   "cell_type": "code",
   "execution_count": 3,
   "id": "477264dd-e287-4685-9181-c2f832732e28",
   "metadata": {},
   "outputs": [],
   "source": [
    "from lib import *"
   ]
  },
  {
   "cell_type": "code",
   "execution_count": 4,
   "id": "4168af80-d684-4de8-b5f0-ce58b1c7c919",
   "metadata": {},
   "outputs": [
    {
     "name": "stderr",
     "output_type": "stream",
     "text": [
      "The attention mask and the pad token id were not set. As a consequence, you may observe unexpected behavior. Please pass your input's `attention_mask` to obtain reliable results.\n",
      "Setting `pad_token_id` to `eos_token_id`:0 for open-end generation.\n"
     ]
    }
   ],
   "source": [
    "out_base = generate_with_stop(model, tokenizer, PROMPT)"
   ]
  },
  {
   "cell_type": "code",
   "execution_count": 5,
   "id": "c51c60bb-177f-4e1b-a6f7-8ce7aca68e16",
   "metadata": {},
   "outputs": [
    {
     "name": "stdout",
     "output_type": "stream",
     "text": [
      "\n",
      "-- You are given a table of numbers.\n",
      "-- You need to return the sum of squared numbers in the given table,\n",
      "-- round each element in the table to the upper int(Ceiling) first.\n",
      "--\n",
      "-- Examples:\n",
      "-- >>> lst({1.0, 2.0, 3.0})\n",
      "-- 14\n",
      "-- >>> lst({1.0, 4.0, 9.0})\n",
      "-- 98\n",
      "-- >>> lst({1.0, 3.0, 5.0, 7.0})\n",
      "-- 84\n",
      "-- >>> lst({1.4, 4.2, 0.0})\n",
      "-- 29\n",
      "-- >>> lst({-2.4, 1.0, 1.0})\n",
      "-- 6\n",
      "local function sum_squares(lst)\n",
      "\tlocal sum = 0\n",
      "\tfor _, v in ipairs(lst) do\n",
      "\t\tsum = sum + v * v\n",
      "\tend\n",
      "\treturn math.ceil(sum)\n",
      "end\n"
     ]
    }
   ],
   "source": [
    "print(tokenizer.decode(out_base))"
   ]
  },
  {
   "cell_type": "code",
   "execution_count": 6,
   "id": "1023da1c-e7af-4760-8154-9d9a0003b954",
   "metadata": {},
   "outputs": [],
   "source": [
    "mean_pooled_base = mean_pool_attn_from_toks(model, out_base)"
   ]
  },
  {
   "cell_type": "code",
   "execution_count": 7,
   "id": "d69d3020-1402-45e1-9c7a-44e98a9523b5",
   "metadata": {},
   "outputs": [
    {
     "name": "stdout",
     "output_type": "stream",
     "text": [
      "\u001b[41m\u001b[30m\n",
      "\u001b[0m\u001b[41m\u001b[30m--\u001b[0m\u001b[41m\u001b[30m You\u001b[0m\u001b[43m\u001b[30m are\u001b[0m\u001b[43m\u001b[30m given\u001b[0m\u001b[43m\u001b[30m a\u001b[0m\u001b[43m\u001b[30m table\u001b[0m\u001b[42m\u001b[30m of\u001b[0m\u001b[43m\u001b[30m numbers\u001b[0m\u001b[43m\u001b[30m.\u001b[0m\u001b[41m\u001b[30m\n",
      "\u001b[0m\u001b[43m\u001b[30m--\u001b[0m\u001b[43m\u001b[30m You\u001b[0m\u001b[42m\u001b[30m need\u001b[0m\u001b[43m\u001b[30m to\u001b[0m\u001b[43m\u001b[30m return\u001b[0m\u001b[43m\u001b[30m the\u001b[0m\u001b[42m\u001b[30m sum\u001b[0m\u001b[42m\u001b[30m of\u001b[0m\u001b[42m\u001b[30m squared\u001b[0m\u001b[42m\u001b[30m numbers\u001b[0m\u001b[42m\u001b[30m in\u001b[0m\u001b[42m\u001b[30m the\u001b[0m\u001b[47m\u001b[30m given\u001b[0m\u001b[42m\u001b[30m table\u001b[0m\u001b[43m\u001b[30m,\u001b[0m\u001b[41m\u001b[30m\n",
      "\u001b[0m\u001b[43m\u001b[30m--\u001b[0m\u001b[43m\u001b[30m round\u001b[0m\u001b[47m\u001b[30m each\u001b[0m\u001b[47m\u001b[30m element\u001b[0m\u001b[47m\u001b[30m in\u001b[0m\u001b[47m\u001b[30m the\u001b[0m\u001b[47m\u001b[30m table\u001b[0m\u001b[42m\u001b[30m to\u001b[0m\u001b[47m\u001b[30m the\u001b[0m\u001b[47m\u001b[30m upper\u001b[0m\u001b[47m\u001b[30m int\u001b[0m\u001b[42m\u001b[30m(\u001b[0m\u001b[42m\u001b[30mCe\u001b[0m\u001b[42m\u001b[30miling\u001b[0m\u001b[47m\u001b[30m)\u001b[0m\u001b[47m\u001b[30m first\u001b[0m\u001b[43m\u001b[30m.\u001b[0m\u001b[41m\u001b[30m\n",
      "\u001b[0m\u001b[43m\u001b[30m--\u001b[0m\u001b[41m\u001b[30m\n",
      "\u001b[0m\u001b[43m\u001b[30m--\u001b[0m\u001b[43m\u001b[30m Examples\u001b[0m\u001b[41m\u001b[30m:\u001b[0m\u001b[43m\u001b[30m\n",
      "\u001b[0m\u001b[43m\u001b[30m--\u001b[0m\u001b[41m\u001b[30m >>>\u001b[0m\u001b[41m\u001b[30m lst\u001b[0m\u001b[41m\u001b[30m({\u001b[0m\u001b[41m\u001b[30m1\u001b[0m\u001b[41m\u001b[30m.\u001b[0m\u001b[41m\u001b[30m0\u001b[0m\u001b[41m\u001b[30m,\u001b[0m\u001b[41m\u001b[30m \u001b[0m\u001b[43m\u001b[30m2\u001b[0m\u001b[43m\u001b[30m.\u001b[0m\u001b[43m\u001b[30m0\u001b[0m\u001b[42m\u001b[30m,\u001b[0m\u001b[43m\u001b[30m \u001b[0m\u001b[42m\u001b[30m3\u001b[0m\u001b[42m\u001b[30m.\u001b[0m\u001b[43m\u001b[30m0\u001b[0m\u001b[41m\u001b[30m})\u001b[0m\u001b[42m\u001b[30m\n",
      "\u001b[0m\u001b[43m\u001b[30m--\u001b[0m\u001b[43m\u001b[30m \u001b[0m\u001b[43m\u001b[30m1\u001b[0m\u001b[43m\u001b[30m4\u001b[0m\u001b[41m\u001b[30m\n",
      "\u001b[0m\u001b[42m\u001b[30m--\u001b[0m\u001b[43m\u001b[30m >>>\u001b[0m\u001b[43m\u001b[30m lst\u001b[0m\u001b[43m\u001b[30m({\u001b[0m\u001b[43m\u001b[30m1\u001b[0m\u001b[43m\u001b[30m.\u001b[0m\u001b[43m\u001b[30m0\u001b[0m\u001b[42m\u001b[30m,\u001b[0m\u001b[43m\u001b[30m \u001b[0m\u001b[43m\u001b[30m4\u001b[0m\u001b[42m\u001b[30m.\u001b[0m\u001b[42m\u001b[30m0\u001b[0m\u001b[47m\u001b[30m,\u001b[0m\u001b[42m\u001b[30m \u001b[0m\u001b[42m\u001b[30m9\u001b[0m\u001b[47m\u001b[30m.\u001b[0m\u001b[42m\u001b[30m0\u001b[0m\u001b[42m\u001b[30m})\u001b[0m\u001b[47m\u001b[30m\n",
      "\u001b[0m\u001b[42m\u001b[30m--\u001b[0m\u001b[43m\u001b[30m \u001b[0m\u001b[43m\u001b[30m9\u001b[0m\u001b[43m\u001b[30m8\u001b[0m\u001b[43m\u001b[30m\n",
      "\u001b[0m\u001b[42m\u001b[30m--\u001b[0m\u001b[42m\u001b[30m >>>\u001b[0m\u001b[47m\u001b[30m lst\u001b[0m\u001b[42m\u001b[30m({\u001b[0m\u001b[42m\u001b[30m1\u001b[0m\u001b[41m\u001b[30m.\u001b[0m\u001b[42m\u001b[30m0\u001b[0m\u001b[42m\u001b[30m,\u001b[0m\u001b[42m\u001b[30m \u001b[0m\u001b[47m\u001b[30m3\u001b[0m\u001b[47m\u001b[30m.\u001b[0m\u001b[47m\u001b[30m0\u001b[0m\u001b[47m\u001b[30m,\u001b[0m\u001b[42m\u001b[30m \u001b[0m\u001b[47m\u001b[30m5\u001b[0m\u001b[47m\u001b[30m.\u001b[0m\u001b[47m\u001b[30m0\u001b[0m\u001b[47m\u001b[30m,\u001b[0m\u001b[42m\u001b[30m \u001b[0m\u001b[47m\u001b[30m7\u001b[0m\u001b[47m\u001b[30m.\u001b[0m\u001b[47m\u001b[30m0\u001b[0m\u001b[42m\u001b[30m})\u001b[0m\u001b[47m\u001b[30m\n",
      "\u001b[0m\u001b[47m\u001b[30m--\u001b[0m\u001b[43m\u001b[30m \u001b[0m\u001b[42m\u001b[30m8\u001b[0m\u001b[42m\u001b[30m4\u001b[0m\u001b[43m\u001b[30m\n",
      "\u001b[0m\u001b[47m\u001b[30m--\u001b[0m\u001b[42m\u001b[30m >>>\u001b[0m\u001b[47m\u001b[30m lst\u001b[0m\u001b[47m\u001b[30m({\u001b[0m\u001b[47m\u001b[30m1\u001b[0m\u001b[47m\u001b[30m.\u001b[0m\u001b[42m\u001b[30m4\u001b[0m\u001b[42m\u001b[30m,\u001b[0m\u001b[42m\u001b[30m \u001b[0m\u001b[42m\u001b[30m4\u001b[0m\u001b[42m\u001b[30m.\u001b[0m\u001b[47m\u001b[30m2\u001b[0m\u001b[47m\u001b[30m,\u001b[0m\u001b[42m\u001b[30m \u001b[0m\u001b[42m\u001b[30m0\u001b[0m\u001b[42m\u001b[30m.\u001b[0m\u001b[47m\u001b[30m0\u001b[0m\u001b[47m\u001b[30m})\u001b[0m\u001b[47m\u001b[30m\n",
      "\u001b[0m\u001b[42m\u001b[30m--\u001b[0m\u001b[43m\u001b[30m \u001b[0m\u001b[43m\u001b[30m2\u001b[0m\u001b[42m\u001b[30m9\u001b[0m\u001b[42m\u001b[30m\n",
      "\u001b[0m\u001b[47m\u001b[30m--\u001b[0m\u001b[47m\u001b[30m >>>\u001b[0m\u001b[47m\u001b[30m lst\u001b[0m\u001b[47m\u001b[30m({\u001b[0m\u001b[42m\u001b[30m-\u001b[0m\u001b[42m\u001b[30m2\u001b[0m\u001b[47m\u001b[30m.\u001b[0m\u001b[47m\u001b[30m4\u001b[0m\u001b[47m\u001b[30m,\u001b[0m\u001b[42m\u001b[30m \u001b[0m\u001b[47m\u001b[30m1\u001b[0m\u001b[47m\u001b[30m.\u001b[0m\u001b[47m\u001b[30m0\u001b[0m\u001b[47m\u001b[30m,\u001b[0m\u001b[47m\u001b[30m \u001b[0m\u001b[47m\u001b[30m1\u001b[0m\u001b[47m\u001b[30m.\u001b[0m\u001b[47m\u001b[30m0\u001b[0m\u001b[47m\u001b[30m})\u001b[0m\u001b[41m\u001b[30m\n",
      "\u001b[0m\u001b[47m\u001b[30m--\u001b[0m\u001b[42m\u001b[30m \u001b[0m\u001b[47m\u001b[30m6\u001b[0m\u001b[42m\u001b[30m\n",
      "\u001b[0m\u001b[41m\u001b[30mlocal\u001b[0m\u001b[41m\u001b[30m function\u001b[0m\u001b[41m\u001b[30m sum\u001b[0m\u001b[43m\u001b[30m_\u001b[0m\u001b[43m\u001b[30msquares\u001b[0m\u001b[41m\u001b[30m(\u001b[0m\u001b[41m\u001b[30mlst\u001b[0m\u001b[41m\u001b[30m)\u001b[0m\u001b[41m\u001b[30m\n",
      "\u001b[0m\u001b[41m\u001b[30m\t\u001b[0m\u001b[41m\u001b[30mlocal\u001b[0m\u001b[41m\u001b[30m sum\u001b[0m\u001b[41m\u001b[30m =\u001b[0m\u001b[41m\u001b[30m \u001b[0m\u001b[41m\u001b[30m0\u001b[0m\u001b[41m\u001b[30m\n",
      "\u001b[0m\u001b[41m\u001b[30m\t\u001b[0m\u001b[41m\u001b[30mfor\u001b[0m\u001b[41m\u001b[30m _,\u001b[0m\u001b[41m\u001b[30m v\u001b[0m\u001b[41m\u001b[30m in\u001b[0m\u001b[41m\u001b[30m ipairs\u001b[0m\u001b[41m\u001b[30m(\u001b[0m\u001b[41m\u001b[30mlst\u001b[0m\u001b[41m\u001b[30m)\u001b[0m\u001b[41m\u001b[30m do\u001b[0m\u001b[41m\u001b[30m\n",
      "\t\u001b[0m\u001b[43m\u001b[30m\t\u001b[0m\u001b[41m\u001b[30msum\u001b[0m\u001b[43m\u001b[30m =\u001b[0m\u001b[41m\u001b[30m sum\u001b[0m\u001b[41m\u001b[30m +\u001b[0m\u001b[41m\u001b[30m v\u001b[0m\u001b[43m\u001b[30m *\u001b[0m\u001b[41m\u001b[30m v\u001b[0m\u001b[43m\u001b[30m\n",
      "\u001b[0m\u001b[43m\u001b[30m\t\u001b[0m\u001b[41m\u001b[30mend\u001b[0m\u001b[43m\u001b[30m\n",
      "\u001b[0m\u001b[43m\u001b[30m\t\u001b[0m\u001b[41m\u001b[30mreturn\u001b[0m\u001b[43m\u001b[30m math\u001b[0m\u001b[41m\u001b[30m.\u001b[0m\u001b[41m\u001b[30mceil\u001b[0m\u001b[43m\u001b[30m(\u001b[0m\u001b[41m\u001b[30msum\u001b[0m\u001b[41m\u001b[30m)\u001b[0m\u001b[42m\u001b[30m\n",
      "\u001b[0m\u001b[41m\u001b[30mend\u001b[0m\n"
     ]
    }
   ],
   "source": [
    "print(visualize_attn(tokenizer, out_base, mean_pooled_base))"
   ]
  },
  {
   "cell_type": "code",
   "execution_count": 8,
   "id": "86f1aa63-ace0-44d2-a9a3-b60ffb3ecc74",
   "metadata": {},
   "outputs": [],
   "source": [
    "from transformers import AutoModelForCausalLM, AutoTokenizer\n",
    "tokenizer = AutoTokenizer.from_pretrained(\"bigcode/starcoderbase-1b\", use_fast=False)\n",
    "model = AutoModelForCausalLM.from_pretrained(\"nuprl/MultiPLCoder-1b\", revision=\"7e96d931547e342ad0661cdd91236fe4ccf52545\").cuda()"
   ]
  },
  {
   "cell_type": "code",
   "execution_count": 11,
   "id": "bbb9085a-bec2-409d-9d00-7e8972e5d808",
   "metadata": {},
   "outputs": [],
   "source": [
    "mean_pooled_fine = mean_pool_attn_from_toks(model, out_base)"
   ]
  },
  {
   "cell_type": "code",
   "execution_count": 12,
   "id": "360a1b1c-6d44-44f1-98b8-54035762f10d",
   "metadata": {},
   "outputs": [
    {
     "name": "stdout",
     "output_type": "stream",
     "text": [
      "\u001b[41m\u001b[30m\n",
      "\u001b[0m\u001b[41m\u001b[30m--\u001b[0m\u001b[41m\u001b[30m You\u001b[0m\u001b[43m\u001b[30m are\u001b[0m\u001b[43m\u001b[30m given\u001b[0m\u001b[43m\u001b[30m a\u001b[0m\u001b[42m\u001b[30m table\u001b[0m\u001b[42m\u001b[30m of\u001b[0m\u001b[42m\u001b[30m numbers\u001b[0m\u001b[43m\u001b[30m.\u001b[0m\u001b[41m\u001b[30m\n",
      "\u001b[0m\u001b[42m\u001b[30m--\u001b[0m\u001b[43m\u001b[30m You\u001b[0m\u001b[42m\u001b[30m need\u001b[0m\u001b[42m\u001b[30m to\u001b[0m\u001b[42m\u001b[30m return\u001b[0m\u001b[43m\u001b[30m the\u001b[0m\u001b[42m\u001b[30m sum\u001b[0m\u001b[42m\u001b[30m of\u001b[0m\u001b[42m\u001b[30m squared\u001b[0m\u001b[43m\u001b[30m numbers\u001b[0m\u001b[42m\u001b[30m in\u001b[0m\u001b[42m\u001b[30m the\u001b[0m\u001b[47m\u001b[30m given\u001b[0m\u001b[47m\u001b[30m table\u001b[0m\u001b[43m\u001b[30m,\u001b[0m\u001b[42m\u001b[30m\n",
      "\u001b[0m\u001b[42m\u001b[30m--\u001b[0m\u001b[43m\u001b[30m round\u001b[0m\u001b[47m\u001b[30m each\u001b[0m\u001b[47m\u001b[30m element\u001b[0m\u001b[47m\u001b[30m in\u001b[0m\u001b[47m\u001b[30m the\u001b[0m\u001b[47m\u001b[30m table\u001b[0m\u001b[47m\u001b[30m to\u001b[0m\u001b[47m\u001b[30m the\u001b[0m\u001b[42m\u001b[30m upper\u001b[0m\u001b[47m\u001b[30m int\u001b[0m\u001b[42m\u001b[30m(\u001b[0m\u001b[42m\u001b[30mCe\u001b[0m\u001b[47m\u001b[30miling\u001b[0m\u001b[47m\u001b[30m)\u001b[0m\u001b[42m\u001b[30m first\u001b[0m\u001b[43m\u001b[30m.\u001b[0m\u001b[41m\u001b[30m\n",
      "\u001b[0m\u001b[42m\u001b[30m--\u001b[0m\u001b[43m\u001b[30m\n",
      "\u001b[0m\u001b[42m\u001b[30m--\u001b[0m\u001b[43m\u001b[30m Examples\u001b[0m\u001b[41m\u001b[30m:\u001b[0m\u001b[42m\u001b[30m\n",
      "\u001b[0m\u001b[43m\u001b[30m--\u001b[0m\u001b[43m\u001b[30m >>>\u001b[0m\u001b[43m\u001b[30m lst\u001b[0m\u001b[41m\u001b[30m({\u001b[0m\u001b[41m\u001b[30m1\u001b[0m\u001b[41m\u001b[30m.\u001b[0m\u001b[41m\u001b[30m0\u001b[0m\u001b[41m\u001b[30m,\u001b[0m\u001b[41m\u001b[30m \u001b[0m\u001b[43m\u001b[30m2\u001b[0m\u001b[43m\u001b[30m.\u001b[0m\u001b[41m\u001b[30m0\u001b[0m\u001b[42m\u001b[30m,\u001b[0m\u001b[41m\u001b[30m \u001b[0m\u001b[42m\u001b[30m3\u001b[0m\u001b[42m\u001b[30m.\u001b[0m\u001b[43m\u001b[30m0\u001b[0m\u001b[41m\u001b[30m})\u001b[0m\u001b[47m\u001b[30m\n",
      "\u001b[0m\u001b[43m\u001b[30m--\u001b[0m\u001b[41m\u001b[30m \u001b[0m\u001b[43m\u001b[30m1\u001b[0m\u001b[42m\u001b[30m4\u001b[0m\u001b[43m\u001b[30m\n",
      "\u001b[0m\u001b[42m\u001b[30m--\u001b[0m\u001b[41m\u001b[30m >>>\u001b[0m\u001b[43m\u001b[30m lst\u001b[0m\u001b[41m\u001b[30m({\u001b[0m\u001b[43m\u001b[30m1\u001b[0m\u001b[43m\u001b[30m.\u001b[0m\u001b[43m\u001b[30m0\u001b[0m\u001b[43m\u001b[30m,\u001b[0m\u001b[41m\u001b[30m \u001b[0m\u001b[43m\u001b[30m4\u001b[0m\u001b[42m\u001b[30m.\u001b[0m\u001b[42m\u001b[30m0\u001b[0m\u001b[42m\u001b[30m,\u001b[0m\u001b[42m\u001b[30m \u001b[0m\u001b[42m\u001b[30m9\u001b[0m\u001b[47m\u001b[30m.\u001b[0m\u001b[42m\u001b[30m0\u001b[0m\u001b[43m\u001b[30m})\u001b[0m\u001b[47m\u001b[30m\n",
      "\u001b[0m\u001b[42m\u001b[30m--\u001b[0m\u001b[43m\u001b[30m \u001b[0m\u001b[43m\u001b[30m9\u001b[0m\u001b[43m\u001b[30m8\u001b[0m\u001b[43m\u001b[30m\n",
      "\u001b[0m\u001b[47m\u001b[30m--\u001b[0m\u001b[43m\u001b[30m >>>\u001b[0m\u001b[47m\u001b[30m lst\u001b[0m\u001b[43m\u001b[30m({\u001b[0m\u001b[43m\u001b[30m1\u001b[0m\u001b[42m\u001b[30m.\u001b[0m\u001b[42m\u001b[30m0\u001b[0m\u001b[42m\u001b[30m,\u001b[0m\u001b[43m\u001b[30m \u001b[0m\u001b[47m\u001b[30m3\u001b[0m\u001b[47m\u001b[30m.\u001b[0m\u001b[47m\u001b[30m0\u001b[0m\u001b[47m\u001b[30m,\u001b[0m\u001b[43m\u001b[30m \u001b[0m\u001b[47m\u001b[30m5\u001b[0m\u001b[47m\u001b[30m.\u001b[0m\u001b[47m\u001b[30m0\u001b[0m\u001b[47m\u001b[30m,\u001b[0m\u001b[42m\u001b[30m \u001b[0m\u001b[47m\u001b[30m7\u001b[0m\u001b[47m\u001b[30m.\u001b[0m\u001b[47m\u001b[30m0\u001b[0m\u001b[43m\u001b[30m})\u001b[0m\u001b[47m\u001b[30m\n",
      "\u001b[0m\u001b[47m\u001b[30m--\u001b[0m\u001b[43m\u001b[30m \u001b[0m\u001b[42m\u001b[30m8\u001b[0m\u001b[42m\u001b[30m4\u001b[0m\u001b[42m\u001b[30m\n",
      "\u001b[0m\u001b[47m\u001b[30m--\u001b[0m\u001b[42m\u001b[30m >>>\u001b[0m\u001b[47m\u001b[30m lst\u001b[0m\u001b[42m\u001b[30m({\u001b[0m\u001b[42m\u001b[30m1\u001b[0m\u001b[47m\u001b[30m.\u001b[0m\u001b[42m\u001b[30m4\u001b[0m\u001b[42m\u001b[30m,\u001b[0m\u001b[43m\u001b[30m \u001b[0m\u001b[42m\u001b[30m4\u001b[0m\u001b[42m\u001b[30m.\u001b[0m\u001b[47m\u001b[30m2\u001b[0m\u001b[47m\u001b[30m,\u001b[0m\u001b[42m\u001b[30m \u001b[0m\u001b[42m\u001b[30m0\u001b[0m\u001b[43m\u001b[30m.\u001b[0m\u001b[47m\u001b[30m0\u001b[0m\u001b[42m\u001b[30m})\u001b[0m\u001b[47m\u001b[30m\n",
      "\u001b[0m\u001b[47m\u001b[30m--\u001b[0m\u001b[43m\u001b[30m \u001b[0m\u001b[43m\u001b[30m2\u001b[0m\u001b[42m\u001b[30m9\u001b[0m\u001b[47m\u001b[30m\n",
      "\u001b[0m\u001b[47m\u001b[30m--\u001b[0m\u001b[47m\u001b[30m >>>\u001b[0m\u001b[47m\u001b[30m lst\u001b[0m\u001b[47m\u001b[30m({\u001b[0m\u001b[43m\u001b[30m-\u001b[0m\u001b[43m\u001b[30m2\u001b[0m\u001b[42m\u001b[30m.\u001b[0m\u001b[42m\u001b[30m4\u001b[0m\u001b[42m\u001b[30m,\u001b[0m\u001b[42m\u001b[30m \u001b[0m\u001b[47m\u001b[30m1\u001b[0m\u001b[47m\u001b[30m.\u001b[0m\u001b[47m\u001b[30m0\u001b[0m\u001b[47m\u001b[30m,\u001b[0m\u001b[47m\u001b[30m \u001b[0m\u001b[47m\u001b[30m1\u001b[0m\u001b[47m\u001b[30m.\u001b[0m\u001b[47m\u001b[30m0\u001b[0m\u001b[47m\u001b[30m})\u001b[0m\u001b[41m\u001b[30m\n",
      "\u001b[0m\u001b[47m\u001b[30m--\u001b[0m\u001b[42m\u001b[30m \u001b[0m\u001b[47m\u001b[30m6\u001b[0m\u001b[47m\u001b[30m\n",
      "\u001b[0m\u001b[41m\u001b[30mlocal\u001b[0m\u001b[41m\u001b[30m function\u001b[0m\u001b[41m\u001b[30m sum\u001b[0m\u001b[43m\u001b[30m_\u001b[0m\u001b[43m\u001b[30msquares\u001b[0m\u001b[41m\u001b[30m(\u001b[0m\u001b[41m\u001b[30mlst\u001b[0m\u001b[41m\u001b[30m)\u001b[0m\u001b[41m\u001b[30m\n",
      "\u001b[0m\u001b[41m\u001b[30m\t\u001b[0m\u001b[41m\u001b[30mlocal\u001b[0m\u001b[41m\u001b[30m sum\u001b[0m\u001b[41m\u001b[30m =\u001b[0m\u001b[41m\u001b[30m \u001b[0m\u001b[41m\u001b[30m0\u001b[0m\u001b[41m\u001b[30m\n",
      "\u001b[0m\u001b[41m\u001b[30m\t\u001b[0m\u001b[41m\u001b[30mfor\u001b[0m\u001b[41m\u001b[30m _,\u001b[0m\u001b[41m\u001b[30m v\u001b[0m\u001b[41m\u001b[30m in\u001b[0m\u001b[41m\u001b[30m ipairs\u001b[0m\u001b[41m\u001b[30m(\u001b[0m\u001b[43m\u001b[30mlst\u001b[0m\u001b[41m\u001b[30m)\u001b[0m\u001b[41m\u001b[30m do\u001b[0m\u001b[43m\u001b[30m\n",
      "\t\u001b[0m\u001b[43m\u001b[30m\t\u001b[0m\u001b[41m\u001b[30msum\u001b[0m\u001b[43m\u001b[30m =\u001b[0m\u001b[43m\u001b[30m sum\u001b[0m\u001b[41m\u001b[30m +\u001b[0m\u001b[41m\u001b[30m v\u001b[0m\u001b[41m\u001b[30m *\u001b[0m\u001b[41m\u001b[30m v\u001b[0m\u001b[41m\u001b[30m\n",
      "\u001b[0m\u001b[43m\u001b[30m\t\u001b[0m\u001b[41m\u001b[30mend\u001b[0m\u001b[41m\u001b[30m\n",
      "\u001b[0m\u001b[43m\u001b[30m\t\u001b[0m\u001b[41m\u001b[30mreturn\u001b[0m\u001b[43m\u001b[30m math\u001b[0m\u001b[41m\u001b[30m.\u001b[0m\u001b[41m\u001b[30mceil\u001b[0m\u001b[41m\u001b[30m(\u001b[0m\u001b[41m\u001b[30msum\u001b[0m\u001b[41m\u001b[30m)\u001b[0m\u001b[47m\u001b[30m\n",
      "\u001b[0m\u001b[43m\u001b[30mend\u001b[0m\n"
     ]
    }
   ],
   "source": [
    "print(visualize_attn(tokenizer, out_base, mean_pooled_fine))"
   ]
  },
  {
   "cell_type": "code",
   "execution_count": 44,
   "id": "8c8159de-3ca3-4296-a9a4-a4a700c294a5",
   "metadata": {},
   "outputs": [],
   "source": [
    "def attn_distribution(tokenizer, out, meaned_attns):\n",
    "    attns_in_comment = []\n",
    "    attns_in_sig = []\n",
    "    attns_in_body = []\n",
    "    \n",
    "    in_comment = True\n",
    "    in_sig = False\n",
    "    in_body = False\n",
    "\n",
    "    prev = None\n",
    "    for i, tok in enumerate(out):\n",
    "        if prev is None:\n",
    "            prev_dec = \"\"\n",
    "        else:\n",
    "            prev_dec = tokenizer.decode(prev)\n",
    "        dec = tokenizer.decode(tok)\n",
    "        prev = tok\n",
    "        attn = meaned_attns[i]\n",
    "        \n",
    "        if \"local\" in dec and \"\\n\" in prev_dec and in_comment:\n",
    "            in_sig = True\n",
    "            in_comment = False\n",
    "        elif \")\" in prev_dec and in_sig:\n",
    "            in_body = True\n",
    "            in_sig = False\n",
    "\n",
    "        if in_comment:\n",
    "            attns_in_comment += [attn]\n",
    "        elif in_sig:\n",
    "            attns_in_sig += [attn]\n",
    "        elif in_body:\n",
    "            attns_in_body += [attn]\n",
    "    \n",
    "    attns_in_comment = torch.tensor(attns_in_comment)\n",
    "    attns_in_sig = torch.tensor(attns_in_sig)\n",
    "    attns_in_body = torch.tensor(attns_in_body)\n",
    "    return {\"comment\": attns_in_comment, \"sig\": attns_in_sig, \"body\": attns_in_body}"
   ]
  },
  {
   "cell_type": "code",
   "execution_count": 56,
   "id": "7974a2ce-bfd1-4b79-8a90-cdd27d7451dd",
   "metadata": {
    "scrolled": true
   },
   "outputs": [],
   "source": [
    "distr = attn_distribution(tokenizer, out_base, mean_pooled_fine)"
   ]
  },
  {
   "cell_type": "code",
   "execution_count": 59,
   "id": "d751545f-228c-4d04-8eee-c2160934cca4",
   "metadata": {},
   "outputs": [
    {
     "data": {
      "text/plain": [
       "tensor(0.2778)"
      ]
     },
     "execution_count": 59,
     "metadata": {},
     "output_type": "execute_result"
    }
   ],
   "source": [
    "prompt_to_body_ratio = torch.cat((distr[\"comment\"], distr[\"sig\"])).median() / distr[\"body\"].median()\n",
    "prompt_to_body_ratio"
   ]
  },
  {
   "cell_type": "code",
   "execution_count": 60,
   "id": "fb792f8e-b1c8-4728-8ba1-43bd8164a036",
   "metadata": {},
   "outputs": [],
   "source": [
    "distr = attn_distribution(tokenizer, out_base, mean_pooled_base)"
   ]
  },
  {
   "cell_type": "code",
   "execution_count": 61,
   "id": "102d8a80-ca94-495e-9f5b-86de66712a07",
   "metadata": {},
   "outputs": [
    {
     "data": {
      "text/plain": [
       "tensor(0.3031)"
      ]
     },
     "execution_count": 61,
     "metadata": {},
     "output_type": "execute_result"
    }
   ],
   "source": [
    "prompt_to_body_ratio_b = torch.cat((distr[\"comment\"], distr[\"sig\"])).median() / distr[\"body\"].median()\n",
    "prompt_to_body_ratio_b"
   ]
  },
  {
   "cell_type": "code",
   "execution_count": null,
   "id": "cfc1ecc2-25ed-4b03-9567-1175cc791903",
   "metadata": {},
   "outputs": [],
   "source": []
  }
 ],
 "metadata": {
  "kernelspec": {
   "display_name": "Python 3 (ipykernel)",
   "language": "python",
   "name": "python3"
  },
  "language_info": {
   "codemirror_mode": {
    "name": "ipython",
    "version": 3
   },
   "file_extension": ".py",
   "mimetype": "text/x-python",
   "name": "python",
   "nbconvert_exporter": "python",
   "pygments_lexer": "ipython3",
   "version": "3.11.3"
  }
 },
 "nbformat": 4,
 "nbformat_minor": 5
}
