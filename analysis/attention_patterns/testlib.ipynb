{
 "cells": [
  {
   "cell_type": "code",
   "execution_count": 1,
   "id": "d951f6bf-9c70-446e-a741-a0ec1707827b",
   "metadata": {},
   "outputs": [],
   "source": [
    "PROMPT = \"\"\"\n",
    "-- You are given a table of numbers.\n",
    "-- You need to return the sum of squared numbers in the given table,\n",
    "-- round each element in the table to the upper int(Ceiling) first.\n",
    "local function sum_squares(lst)\n",
    "    local sum = 0\n",
    "    for _, num in ipairs(lst) do\n",
    "        local rounded_num = math.ceil(num)\n",
    "        sum = sum + (rounded_num * rounded_num)\n",
    "    end\n",
    "    return sum\n",
    "end\n",
    "\"\"\""
   ]
  },
  {
   "cell_type": "code",
   "execution_count": 1,
   "id": "3cc68cf9-d1c3-4d14-9df5-fe0d88d228e5",
   "metadata": {},
   "outputs": [
    {
     "name": "stderr",
     "output_type": "stream",
     "text": [
      "/home/elleven/.local/lib/python3.11/site-packages/tqdm/auto.py:21: TqdmWarning: IProgress not found. Please update jupyter and ipywidgets. See https://ipywidgets.readthedocs.io/en/stable/user_install.html\n",
      "  from .autonotebook import tqdm as notebook_tqdm\n"
     ]
    }
   ],
   "source": [
    "from transformers import AutoModelForCausalLM, AutoTokenizer\n",
    "tokenizer = AutoTokenizer.from_pretrained(\"bigcode/starcoderbase-1b\", use_fast=False)\n",
    "model = AutoModelForCausalLM.from_pretrained(\"bigcode/starcoderbase-1b\").cuda()"
   ]
  },
  {
   "cell_type": "code",
   "execution_count": 3,
   "id": "477264dd-e287-4685-9181-c2f832732e28",
   "metadata": {},
   "outputs": [],
   "source": [
    "from lib import *"
   ]
  },
  {
   "cell_type": "code",
   "execution_count": 5,
   "id": "4168af80-d684-4de8-b5f0-ce58b1c7c919",
   "metadata": {},
   "outputs": [
    {
     "name": "stderr",
     "output_type": "stream",
     "text": [
      "The attention mask and the pad token id were not set. As a consequence, you may observe unexpected behavior. Please pass your input's `attention_mask` to obtain reliable results.\n",
      "Setting `pad_token_id` to `eos_token_id`:0 for open-end generation.\n"
     ]
    }
   ],
   "source": [
    "out_base = generate_with_stop(model, tokenizer, PROMPT)"
   ]
  },
  {
   "cell_type": "code",
   "execution_count": 5,
   "id": "c51c60bb-177f-4e1b-a6f7-8ce7aca68e16",
   "metadata": {},
   "outputs": [
    {
     "name": "stdout",
     "output_type": "stream",
     "text": [
      "\n",
      "-- You are given a table of numbers.\n",
      "-- You need to return the sum of squared numbers in the given table,\n",
      "-- round each element in the table to the upper int(Ceiling) first.\n",
      "local function sum_squares(lst)\n",
      "    local sum = 0\n",
      "    for _, num in ipairs(lst) do\n",
      "        local rounded_num = math.ceil(num)\n",
      "        sum = sum + (rounded_num * rounded_num)\n",
      "    end\n",
      "    return sum\n",
      "end\n",
      "\n",
      "--\n"
     ]
    }
   ],
   "source": [
    "print(tokenizer.decode(out_base))"
   ]
  },
  {
   "cell_type": "code",
   "execution_count": 5,
   "id": "1023da1c-e7af-4760-8154-9d9a0003b954",
   "metadata": {},
   "outputs": [],
   "source": [
    "out_base = torch.tensor(tokenizer.encode(PROMPT)).cuda()\n",
    "mean_pooled_base = mean_pool_attn_from_toks(model, out_base)"
   ]
  },
  {
   "cell_type": "code",
   "execution_count": 6,
   "id": "d69d3020-1402-45e1-9c7a-44e98a9523b5",
   "metadata": {},
   "outputs": [
    {
     "name": "stdout",
     "output_type": "stream",
     "text": [
      "\u001b[41m\u001b[30m\n",
      "\u001b[0m\u001b[43m\u001b[30m--\u001b[0m\u001b[43m\u001b[30m You\u001b[0m\u001b[42m\u001b[30m are\u001b[0m\u001b[43m\u001b[30m given\u001b[0m\u001b[42m\u001b[30m a\u001b[0m\u001b[42m\u001b[30m table\u001b[0m\u001b[47m\u001b[30m of\u001b[0m\u001b[42m\u001b[30m numbers\u001b[0m\u001b[43m\u001b[30m.\u001b[0m\u001b[41m\u001b[30m\n",
      "\u001b[0m\u001b[42m\u001b[30m--\u001b[0m\u001b[42m\u001b[30m You\u001b[0m\u001b[42m\u001b[30m need\u001b[0m\u001b[42m\u001b[30m to\u001b[0m\u001b[42m\u001b[30m return\u001b[0m\u001b[42m\u001b[30m the\u001b[0m\u001b[42m\u001b[30m sum\u001b[0m\u001b[42m\u001b[30m of\u001b[0m\u001b[47m\u001b[30m squared\u001b[0m\u001b[42m\u001b[30m numbers\u001b[0m\u001b[47m\u001b[30m in\u001b[0m\u001b[47m\u001b[30m the\u001b[0m\u001b[47m\u001b[30m given\u001b[0m\u001b[47m\u001b[30m table\u001b[0m\u001b[43m\u001b[30m,\u001b[0m\u001b[43m\u001b[30m\n",
      "\u001b[0m\u001b[47m\u001b[30m--\u001b[0m\u001b[42m\u001b[30m round\u001b[0m\u001b[47m\u001b[30m each\u001b[0m\u001b[47m\u001b[30m element\u001b[0m\u001b[47m\u001b[30m in\u001b[0m\u001b[47m\u001b[30m the\u001b[0m\u001b[47m\u001b[30m table\u001b[0m\u001b[47m\u001b[30m to\u001b[0m\u001b[47m\u001b[30m the\u001b[0m\u001b[47m\u001b[30m upper\u001b[0m\u001b[47m\u001b[30m int\u001b[0m\u001b[47m\u001b[30m(\u001b[0m\u001b[47m\u001b[30mCe\u001b[0m\u001b[47m\u001b[30miling\u001b[0m\u001b[47m\u001b[30m)\u001b[0m\u001b[47m\u001b[30m first\u001b[0m\u001b[42m\u001b[30m.\u001b[0m\u001b[41m\u001b[30m\n",
      "\u001b[0m\u001b[41m\u001b[30mlocal\u001b[0m\u001b[41m\u001b[30m function\u001b[0m\u001b[43m\u001b[30m sum\u001b[0m\u001b[42m\u001b[30m_\u001b[0m\u001b[42m\u001b[30msquares\u001b[0m\u001b[41m\u001b[30m(\u001b[0m\u001b[41m\u001b[30mlst\u001b[0m\u001b[41m\u001b[30m)\u001b[0m\u001b[41m\u001b[30m\n",
      "   \u001b[0m\u001b[43m\u001b[30m local\u001b[0m\u001b[41m\u001b[30m sum\u001b[0m\u001b[43m\u001b[30m =\u001b[0m\u001b[43m\u001b[30m \u001b[0m\u001b[41m\u001b[30m0\u001b[0m\u001b[41m\u001b[30m\n",
      "   \u001b[0m\u001b[41m\u001b[30m for\u001b[0m\u001b[41m\u001b[30m _,\u001b[0m\u001b[41m\u001b[30m num\u001b[0m\u001b[41m\u001b[30m in\u001b[0m\u001b[43m\u001b[30m ipairs\u001b[0m\u001b[43m\u001b[30m(\u001b[0m\u001b[41m\u001b[30mlst\u001b[0m\u001b[43m\u001b[30m)\u001b[0m\u001b[41m\u001b[30m do\u001b[0m\u001b[41m\u001b[30m\n",
      "       \u001b[0m\u001b[43m\u001b[30m local\u001b[0m\u001b[41m\u001b[30m rounded\u001b[0m\u001b[43m\u001b[30m_\u001b[0m\u001b[43m\u001b[30mnum\u001b[0m\u001b[42m\u001b[30m =\u001b[0m\u001b[47m\u001b[30m math\u001b[0m\u001b[42m\u001b[30m.\u001b[0m\u001b[43m\u001b[30mceil\u001b[0m\u001b[42m\u001b[30m(\u001b[0m\u001b[41m\u001b[30mnum\u001b[0m\u001b[43m\u001b[30m)\u001b[0m\u001b[42m\u001b[30m\n",
      "       \u001b[0m\u001b[43m\u001b[30m sum\u001b[0m\u001b[42m\u001b[30m =\u001b[0m\u001b[42m\u001b[30m sum\u001b[0m\u001b[42m\u001b[30m +\u001b[0m\u001b[42m\u001b[30m (\u001b[0m\u001b[43m\u001b[30mrounded\u001b[0m\u001b[41m\u001b[30m_\u001b[0m\u001b[43m\u001b[30mnum\u001b[0m\u001b[47m\u001b[30m *\u001b[0m\u001b[47m\u001b[30m rounded\u001b[0m\u001b[43m\u001b[30m_\u001b[0m\u001b[41m\u001b[30mnum\u001b[0m\u001b[43m\u001b[30m)\u001b[0m\u001b[47m\u001b[30m\n",
      "   \u001b[0m\u001b[41m\u001b[30m end\u001b[0m\u001b[43m\u001b[30m\n",
      "   \u001b[0m\u001b[43m\u001b[30m return\u001b[0m\u001b[43m\u001b[30m sum\u001b[0m\u001b[47m\u001b[30m\n",
      "\u001b[0m\u001b[41m\u001b[30mend\u001b[0m\u001b[41m\u001b[30m\n",
      "\u001b[0m\n"
     ]
    }
   ],
   "source": [
    "print(visualize_attn(tokenizer, out_base, mean_pooled_base))"
   ]
  },
  {
   "cell_type": "code",
   "execution_count": 24,
   "id": "7dfeb265-43ec-4d66-b23f-9dd43a078236",
   "metadata": {},
   "outputs": [
    {
     "name": "stdout",
     "output_type": "stream",
     "text": [
      "\u001b[41m\u001b[30m\n",
      "\u001b[0m\u001b[43m\u001b[30m--\u001b[0m\u001b[43m\u001b[30m You\u001b[0m\u001b[43m\u001b[30m are\u001b[0m\u001b[43m\u001b[30m given\u001b[0m\u001b[43m\u001b[30m a\u001b[0m\u001b[43m\u001b[30m table\u001b[0m\u001b[42m\u001b[30m of\u001b[0m\u001b[42m\u001b[30m numbers\u001b[0m\u001b[43m\u001b[30m.\u001b[0m\u001b[43m\u001b[30m\n",
      "\u001b[0m\u001b[42m\u001b[30m--\u001b[0m\u001b[43m\u001b[30m You\u001b[0m\u001b[42m\u001b[30m need\u001b[0m\u001b[43m\u001b[30m to\u001b[0m\u001b[42m\u001b[30m return\u001b[0m\u001b[42m\u001b[30m the\u001b[0m\u001b[47m\u001b[30m sum\u001b[0m\u001b[42m\u001b[30m of\u001b[0m\u001b[42m\u001b[30m squared\u001b[0m\u001b[47m\u001b[30m numbers\u001b[0m\u001b[47m\u001b[30m in\u001b[0m\u001b[42m\u001b[30m the\u001b[0m\u001b[42m\u001b[30m given\u001b[0m\u001b[47m\u001b[30m table\u001b[0m\u001b[42m\u001b[30m,\u001b[0m\u001b[43m\u001b[30m\n",
      "\u001b[0m\u001b[42m\u001b[30m--\u001b[0m\u001b[42m\u001b[30m round\u001b[0m\u001b[47m\u001b[30m each\u001b[0m\u001b[47m\u001b[30m element\u001b[0m\u001b[47m\u001b[30m in\u001b[0m\u001b[47m\u001b[30m the\u001b[0m\u001b[47m\u001b[30m table\u001b[0m\u001b[47m\u001b[30m to\u001b[0m\u001b[42m\u001b[30m the\u001b[0m\u001b[47m\u001b[30m upper\u001b[0m\u001b[47m\u001b[30m int\u001b[0m\u001b[47m\u001b[30m(\u001b[0m\u001b[42m\u001b[30mCe\u001b[0m\u001b[47m\u001b[30miling\u001b[0m\u001b[47m\u001b[30m)\u001b[0m\u001b[47m\u001b[30m first\u001b[0m\u001b[43m\u001b[30m.\u001b[0m\u001b[43m\u001b[30m\n",
      "\u001b[0m\u001b[41m\u001b[30mlocal\u001b[0m\u001b[41m\u001b[30m function\u001b[0m\u001b[42m\u001b[30m sum\u001b[0m\u001b[43m\u001b[30m_\u001b[0m\u001b[43m\u001b[30msquares\u001b[0m\u001b[41m\u001b[30m(\u001b[0m\u001b[41m\u001b[30mlst\u001b[0m\u001b[41m\u001b[30m)\u001b[0m\u001b[41m\u001b[30m\n",
      "   \u001b[0m\u001b[41m\u001b[30m local\u001b[0m\u001b[43m\u001b[30m sum\u001b[0m\u001b[41m\u001b[30m =\u001b[0m\u001b[41m\u001b[30m \u001b[0m\u001b[41m\u001b[30m0\u001b[0m\u001b[41m\u001b[30m\n",
      "   \u001b[0m\u001b[41m\u001b[30m for\u001b[0m\u001b[41m\u001b[30m _,\u001b[0m\u001b[41m\u001b[30m num\u001b[0m\u001b[41m\u001b[30m in\u001b[0m\u001b[47m\u001b[30m ipairs\u001b[0m\u001b[47m\u001b[30m(\u001b[0m\u001b[47m\u001b[30mlst\u001b[0m\u001b[47m\u001b[30m)\u001b[0m\u001b[47m\u001b[30m do\u001b[0m\u001b[47m\u001b[30m\n",
      "       \u001b[0m\u001b[47m\u001b[30m local\u001b[0m\u001b[47m\u001b[30m rounded\u001b[0m\u001b[47m\u001b[30m_\u001b[0m\u001b[47m\u001b[30mnum\u001b[0m\u001b[47m\u001b[30m =\u001b[0m\u001b[47m\u001b[30m math\u001b[0m\u001b[47m\u001b[30m.\u001b[0m\u001b[47m\u001b[30mceil\u001b[0m\u001b[47m\u001b[30m(\u001b[0m\u001b[47m\u001b[30mnum\u001b[0m\u001b[47m\u001b[30m)\u001b[0m\u001b[47m\u001b[30m\n",
      "       \u001b[0m\u001b[47m\u001b[30m sum\u001b[0m\u001b[47m\u001b[30m =\u001b[0m\u001b[47m\u001b[30m sum\u001b[0m\u001b[47m\u001b[30m +\u001b[0m\u001b[47m\u001b[30m (\u001b[0m\u001b[47m\u001b[30mrounded\u001b[0m\u001b[47m\u001b[30m_\u001b[0m\u001b[47m\u001b[30mnum\u001b[0m\u001b[47m\u001b[30m *\u001b[0m\u001b[47m\u001b[30m rounded\u001b[0m\u001b[47m\u001b[30m_\u001b[0m\u001b[47m\u001b[30mnum\u001b[0m\u001b[47m\u001b[30m)\u001b[0m\u001b[47m\u001b[30m\n",
      "   \u001b[0m\u001b[47m\u001b[30m end\u001b[0m\u001b[47m\u001b[30m\n",
      "   \u001b[0m\u001b[47m\u001b[30m return\u001b[0m\u001b[47m\u001b[30m sum\u001b[0m\u001b[47m\u001b[30m\n",
      "\u001b[0m\u001b[47m\u001b[30mend\u001b[0m\u001b[47m\u001b[30m\n",
      "\u001b[0m\n"
     ]
    }
   ],
   "source": [
    "mean_pooled_base_s = attn_from_toks_single(model, out_base, 63)\n",
    "print(visualize_attn(tokenizer, out_base, mean_pooled_base_s))"
   ]
  },
  {
   "cell_type": "code",
   "execution_count": 8,
   "id": "86f1aa63-ace0-44d2-a9a3-b60ffb3ecc74",
   "metadata": {},
   "outputs": [],
   "source": [
    "from transformers import AutoModelForCausalLM, AutoTokenizer\n",
    "tokenizer = AutoTokenizer.from_pretrained(\"bigcode/starcoderbase-1b\", use_fast=False)\n",
    "model = AutoModelForCausalLM.from_pretrained(\"nuprl/MultiPLCoder-1b\", revision=\"7e96d931547e342ad0661cdd91236fe4ccf52545\").cuda()"
   ]
  },
  {
   "cell_type": "code",
   "execution_count": 11,
   "id": "bbb9085a-bec2-409d-9d00-7e8972e5d808",
   "metadata": {},
   "outputs": [],
   "source": [
    "mean_pooled_fine = mean_pool_attn_from_toks(model, out_base)"
   ]
  },
  {
   "cell_type": "code",
   "execution_count": 12,
   "id": "360a1b1c-6d44-44f1-98b8-54035762f10d",
   "metadata": {},
   "outputs": [
    {
     "name": "stdout",
     "output_type": "stream",
     "text": [
      "\u001b[41m\u001b[30m\n",
      "\u001b[0m\u001b[41m\u001b[30m--\u001b[0m\u001b[41m\u001b[30m You\u001b[0m\u001b[43m\u001b[30m are\u001b[0m\u001b[43m\u001b[30m given\u001b[0m\u001b[43m\u001b[30m a\u001b[0m\u001b[42m\u001b[30m table\u001b[0m\u001b[42m\u001b[30m of\u001b[0m\u001b[42m\u001b[30m numbers\u001b[0m\u001b[43m\u001b[30m.\u001b[0m\u001b[41m\u001b[30m\n",
      "\u001b[0m\u001b[42m\u001b[30m--\u001b[0m\u001b[43m\u001b[30m You\u001b[0m\u001b[42m\u001b[30m need\u001b[0m\u001b[42m\u001b[30m to\u001b[0m\u001b[42m\u001b[30m return\u001b[0m\u001b[43m\u001b[30m the\u001b[0m\u001b[42m\u001b[30m sum\u001b[0m\u001b[42m\u001b[30m of\u001b[0m\u001b[42m\u001b[30m squared\u001b[0m\u001b[43m\u001b[30m numbers\u001b[0m\u001b[42m\u001b[30m in\u001b[0m\u001b[42m\u001b[30m the\u001b[0m\u001b[47m\u001b[30m given\u001b[0m\u001b[47m\u001b[30m table\u001b[0m\u001b[43m\u001b[30m,\u001b[0m\u001b[42m\u001b[30m\n",
      "\u001b[0m\u001b[42m\u001b[30m--\u001b[0m\u001b[43m\u001b[30m round\u001b[0m\u001b[47m\u001b[30m each\u001b[0m\u001b[47m\u001b[30m element\u001b[0m\u001b[47m\u001b[30m in\u001b[0m\u001b[47m\u001b[30m the\u001b[0m\u001b[47m\u001b[30m table\u001b[0m\u001b[47m\u001b[30m to\u001b[0m\u001b[47m\u001b[30m the\u001b[0m\u001b[42m\u001b[30m upper\u001b[0m\u001b[47m\u001b[30m int\u001b[0m\u001b[42m\u001b[30m(\u001b[0m\u001b[42m\u001b[30mCe\u001b[0m\u001b[47m\u001b[30miling\u001b[0m\u001b[47m\u001b[30m)\u001b[0m\u001b[42m\u001b[30m first\u001b[0m\u001b[43m\u001b[30m.\u001b[0m\u001b[41m\u001b[30m\n",
      "\u001b[0m\u001b[42m\u001b[30m--\u001b[0m\u001b[43m\u001b[30m\n",
      "\u001b[0m\u001b[42m\u001b[30m--\u001b[0m\u001b[43m\u001b[30m Examples\u001b[0m\u001b[41m\u001b[30m:\u001b[0m\u001b[42m\u001b[30m\n",
      "\u001b[0m\u001b[43m\u001b[30m--\u001b[0m\u001b[43m\u001b[30m >>>\u001b[0m\u001b[43m\u001b[30m lst\u001b[0m\u001b[41m\u001b[30m({\u001b[0m\u001b[41m\u001b[30m1\u001b[0m\u001b[41m\u001b[30m.\u001b[0m\u001b[41m\u001b[30m0\u001b[0m\u001b[41m\u001b[30m,\u001b[0m\u001b[41m\u001b[30m \u001b[0m\u001b[43m\u001b[30m2\u001b[0m\u001b[43m\u001b[30m.\u001b[0m\u001b[41m\u001b[30m0\u001b[0m\u001b[42m\u001b[30m,\u001b[0m\u001b[41m\u001b[30m \u001b[0m\u001b[42m\u001b[30m3\u001b[0m\u001b[42m\u001b[30m.\u001b[0m\u001b[43m\u001b[30m0\u001b[0m\u001b[41m\u001b[30m})\u001b[0m\u001b[47m\u001b[30m\n",
      "\u001b[0m\u001b[43m\u001b[30m--\u001b[0m\u001b[41m\u001b[30m \u001b[0m\u001b[43m\u001b[30m1\u001b[0m\u001b[42m\u001b[30m4\u001b[0m\u001b[43m\u001b[30m\n",
      "\u001b[0m\u001b[42m\u001b[30m--\u001b[0m\u001b[41m\u001b[30m >>>\u001b[0m\u001b[43m\u001b[30m lst\u001b[0m\u001b[41m\u001b[30m({\u001b[0m\u001b[43m\u001b[30m1\u001b[0m\u001b[43m\u001b[30m.\u001b[0m\u001b[43m\u001b[30m0\u001b[0m\u001b[43m\u001b[30m,\u001b[0m\u001b[41m\u001b[30m \u001b[0m\u001b[43m\u001b[30m4\u001b[0m\u001b[42m\u001b[30m.\u001b[0m\u001b[42m\u001b[30m0\u001b[0m\u001b[42m\u001b[30m,\u001b[0m\u001b[42m\u001b[30m \u001b[0m\u001b[42m\u001b[30m9\u001b[0m\u001b[47m\u001b[30m.\u001b[0m\u001b[42m\u001b[30m0\u001b[0m\u001b[43m\u001b[30m})\u001b[0m\u001b[47m\u001b[30m\n",
      "\u001b[0m\u001b[42m\u001b[30m--\u001b[0m\u001b[43m\u001b[30m \u001b[0m\u001b[43m\u001b[30m9\u001b[0m\u001b[43m\u001b[30m8\u001b[0m\u001b[43m\u001b[30m\n",
      "\u001b[0m\u001b[47m\u001b[30m--\u001b[0m\u001b[43m\u001b[30m >>>\u001b[0m\u001b[47m\u001b[30m lst\u001b[0m\u001b[43m\u001b[30m({\u001b[0m\u001b[43m\u001b[30m1\u001b[0m\u001b[42m\u001b[30m.\u001b[0m\u001b[42m\u001b[30m0\u001b[0m\u001b[42m\u001b[30m,\u001b[0m\u001b[43m\u001b[30m \u001b[0m\u001b[47m\u001b[30m3\u001b[0m\u001b[47m\u001b[30m.\u001b[0m\u001b[47m\u001b[30m0\u001b[0m\u001b[47m\u001b[30m,\u001b[0m\u001b[43m\u001b[30m \u001b[0m\u001b[47m\u001b[30m5\u001b[0m\u001b[47m\u001b[30m.\u001b[0m\u001b[47m\u001b[30m0\u001b[0m\u001b[47m\u001b[30m,\u001b[0m\u001b[42m\u001b[30m \u001b[0m\u001b[47m\u001b[30m7\u001b[0m\u001b[47m\u001b[30m.\u001b[0m\u001b[47m\u001b[30m0\u001b[0m\u001b[43m\u001b[30m})\u001b[0m\u001b[47m\u001b[30m\n",
      "\u001b[0m\u001b[47m\u001b[30m--\u001b[0m\u001b[43m\u001b[30m \u001b[0m\u001b[42m\u001b[30m8\u001b[0m\u001b[42m\u001b[30m4\u001b[0m\u001b[42m\u001b[30m\n",
      "\u001b[0m\u001b[47m\u001b[30m--\u001b[0m\u001b[42m\u001b[30m >>>\u001b[0m\u001b[47m\u001b[30m lst\u001b[0m\u001b[42m\u001b[30m({\u001b[0m\u001b[42m\u001b[30m1\u001b[0m\u001b[47m\u001b[30m.\u001b[0m\u001b[42m\u001b[30m4\u001b[0m\u001b[42m\u001b[30m,\u001b[0m\u001b[43m\u001b[30m \u001b[0m\u001b[42m\u001b[30m4\u001b[0m\u001b[42m\u001b[30m.\u001b[0m\u001b[47m\u001b[30m2\u001b[0m\u001b[47m\u001b[30m,\u001b[0m\u001b[42m\u001b[30m \u001b[0m\u001b[42m\u001b[30m0\u001b[0m\u001b[43m\u001b[30m.\u001b[0m\u001b[47m\u001b[30m0\u001b[0m\u001b[42m\u001b[30m})\u001b[0m\u001b[47m\u001b[30m\n",
      "\u001b[0m\u001b[47m\u001b[30m--\u001b[0m\u001b[43m\u001b[30m \u001b[0m\u001b[43m\u001b[30m2\u001b[0m\u001b[42m\u001b[30m9\u001b[0m\u001b[47m\u001b[30m\n",
      "\u001b[0m\u001b[47m\u001b[30m--\u001b[0m\u001b[47m\u001b[30m >>>\u001b[0m\u001b[47m\u001b[30m lst\u001b[0m\u001b[47m\u001b[30m({\u001b[0m\u001b[43m\u001b[30m-\u001b[0m\u001b[43m\u001b[30m2\u001b[0m\u001b[42m\u001b[30m.\u001b[0m\u001b[42m\u001b[30m4\u001b[0m\u001b[42m\u001b[30m,\u001b[0m\u001b[42m\u001b[30m \u001b[0m\u001b[47m\u001b[30m1\u001b[0m\u001b[47m\u001b[30m.\u001b[0m\u001b[47m\u001b[30m0\u001b[0m\u001b[47m\u001b[30m,\u001b[0m\u001b[47m\u001b[30m \u001b[0m\u001b[47m\u001b[30m1\u001b[0m\u001b[47m\u001b[30m.\u001b[0m\u001b[47m\u001b[30m0\u001b[0m\u001b[47m\u001b[30m})\u001b[0m\u001b[41m\u001b[30m\n",
      "\u001b[0m\u001b[47m\u001b[30m--\u001b[0m\u001b[42m\u001b[30m \u001b[0m\u001b[47m\u001b[30m6\u001b[0m\u001b[47m\u001b[30m\n",
      "\u001b[0m\u001b[41m\u001b[30mlocal\u001b[0m\u001b[41m\u001b[30m function\u001b[0m\u001b[41m\u001b[30m sum\u001b[0m\u001b[43m\u001b[30m_\u001b[0m\u001b[43m\u001b[30msquares\u001b[0m\u001b[41m\u001b[30m(\u001b[0m\u001b[41m\u001b[30mlst\u001b[0m\u001b[41m\u001b[30m)\u001b[0m\u001b[41m\u001b[30m\n",
      "\u001b[0m\u001b[41m\u001b[30m\t\u001b[0m\u001b[41m\u001b[30mlocal\u001b[0m\u001b[41m\u001b[30m sum\u001b[0m\u001b[41m\u001b[30m =\u001b[0m\u001b[41m\u001b[30m \u001b[0m\u001b[41m\u001b[30m0\u001b[0m\u001b[41m\u001b[30m\n",
      "\u001b[0m\u001b[41m\u001b[30m\t\u001b[0m\u001b[41m\u001b[30mfor\u001b[0m\u001b[41m\u001b[30m _,\u001b[0m\u001b[41m\u001b[30m v\u001b[0m\u001b[41m\u001b[30m in\u001b[0m\u001b[41m\u001b[30m ipairs\u001b[0m\u001b[41m\u001b[30m(\u001b[0m\u001b[43m\u001b[30mlst\u001b[0m\u001b[41m\u001b[30m)\u001b[0m\u001b[41m\u001b[30m do\u001b[0m\u001b[43m\u001b[30m\n",
      "\t\u001b[0m\u001b[43m\u001b[30m\t\u001b[0m\u001b[41m\u001b[30msum\u001b[0m\u001b[43m\u001b[30m =\u001b[0m\u001b[43m\u001b[30m sum\u001b[0m\u001b[41m\u001b[30m +\u001b[0m\u001b[41m\u001b[30m v\u001b[0m\u001b[41m\u001b[30m *\u001b[0m\u001b[41m\u001b[30m v\u001b[0m\u001b[41m\u001b[30m\n",
      "\u001b[0m\u001b[43m\u001b[30m\t\u001b[0m\u001b[41m\u001b[30mend\u001b[0m\u001b[41m\u001b[30m\n",
      "\u001b[0m\u001b[43m\u001b[30m\t\u001b[0m\u001b[41m\u001b[30mreturn\u001b[0m\u001b[43m\u001b[30m math\u001b[0m\u001b[41m\u001b[30m.\u001b[0m\u001b[41m\u001b[30mceil\u001b[0m\u001b[41m\u001b[30m(\u001b[0m\u001b[41m\u001b[30msum\u001b[0m\u001b[41m\u001b[30m)\u001b[0m\u001b[47m\u001b[30m\n",
      "\u001b[0m\u001b[43m\u001b[30mend\u001b[0m\n"
     ]
    }
   ],
   "source": [
    "print(visualize_attn(tokenizer, out_base, mean_pooled_fine))"
   ]
  },
  {
   "cell_type": "code",
   "execution_count": 44,
   "id": "8c8159de-3ca3-4296-a9a4-a4a700c294a5",
   "metadata": {},
   "outputs": [],
   "source": [
    "def attn_distribution(tokenizer, out, meaned_attns):\n",
    "    attns_in_comment = []\n",
    "    attns_in_sig = []\n",
    "    attns_in_body = []\n",
    "    \n",
    "    in_comment = True\n",
    "    in_sig = False\n",
    "    in_body = False\n",
    "\n",
    "    prev = None\n",
    "    for i, tok in enumerate(out):\n",
    "        if prev is None:\n",
    "            prev_dec = \"\"\n",
    "        else:\n",
    "            prev_dec = tokenizer.decode(prev)\n",
    "        dec = tokenizer.decode(tok)\n",
    "        prev = tok\n",
    "        attn = meaned_attns[i]\n",
    "        \n",
    "        if \"local\" in dec and \"\\n\" in prev_dec and in_comment:\n",
    "            in_sig = True\n",
    "            in_comment = False\n",
    "        elif \")\" in prev_dec and in_sig:\n",
    "            in_body = True\n",
    "            in_sig = False\n",
    "\n",
    "        if in_comment:\n",
    "            attns_in_comment += [attn]\n",
    "        elif in_sig:\n",
    "            attns_in_sig += [attn]\n",
    "        elif in_body:\n",
    "            attns_in_body += [attn]\n",
    "    \n",
    "    attns_in_comment = torch.tensor(attns_in_comment)\n",
    "    attns_in_sig = torch.tensor(attns_in_sig)\n",
    "    attns_in_body = torch.tensor(attns_in_body)\n",
    "    return {\"comment\": attns_in_comment, \"sig\": attns_in_sig, \"body\": attns_in_body}"
   ]
  },
  {
   "cell_type": "code",
   "execution_count": 56,
   "id": "7974a2ce-bfd1-4b79-8a90-cdd27d7451dd",
   "metadata": {
    "scrolled": true
   },
   "outputs": [],
   "source": [
    "distr = attn_distribution(tokenizer, out_base, mean_pooled_fine)"
   ]
  },
  {
   "cell_type": "code",
   "execution_count": 59,
   "id": "d751545f-228c-4d04-8eee-c2160934cca4",
   "metadata": {},
   "outputs": [
    {
     "data": {
      "text/plain": [
       "tensor(0.2778)"
      ]
     },
     "execution_count": 59,
     "metadata": {},
     "output_type": "execute_result"
    }
   ],
   "source": [
    "prompt_to_body_ratio = torch.cat((distr[\"comment\"], distr[\"sig\"])).median() / distr[\"body\"].median()\n",
    "prompt_to_body_ratio"
   ]
  },
  {
   "cell_type": "code",
   "execution_count": 60,
   "id": "fb792f8e-b1c8-4728-8ba1-43bd8164a036",
   "metadata": {},
   "outputs": [],
   "source": [
    "distr = attn_distribution(tokenizer, out_base, mean_pooled_base)"
   ]
  },
  {
   "cell_type": "code",
   "execution_count": 61,
   "id": "102d8a80-ca94-495e-9f5b-86de66712a07",
   "metadata": {},
   "outputs": [
    {
     "data": {
      "text/plain": [
       "tensor(0.3031)"
      ]
     },
     "execution_count": 61,
     "metadata": {},
     "output_type": "execute_result"
    }
   ],
   "source": [
    "prompt_to_body_ratio_b = torch.cat((distr[\"comment\"], distr[\"sig\"])).median() / distr[\"body\"].median()\n",
    "prompt_to_body_ratio_b"
   ]
  },
  {
   "cell_type": "code",
   "execution_count": 5,
   "id": "cfc1ecc2-25ed-4b03-9567-1175cc791903",
   "metadata": {},
   "outputs": [
    {
     "name": "stdout",
     "output_type": "stream",
     "text": [
      "\n",
      "inductive imf (f : nat → nat) : nat → Type\n",
      "| mk1 : ∀ (a : nat), imf (f a)\n"
     ]
    }
   ],
   "source": [
    "prompt = \"\"\"\n",
    "inductive imf (f : nat → nat) : nat → Type\n",
    "| mk1 : ∀ (a : nat), imf (f a)\"\"\"\n",
    "toks = tokenizer.encode(prompt)\n",
    "print(tokenizer.decode(toks))"
   ]
  },
  {
   "cell_type": "code",
   "execution_count": 7,
   "id": "f72715fe-271f-4dbc-80e6-d07089a652b5",
   "metadata": {},
   "outputs": [
    {
     "name": "stderr",
     "output_type": "stream",
     "text": [
      "The attention mask and the pad token id were not set. As a consequence, you may observe unexpected behavior. Please pass your input's `attention_mask` to obtain reliable results.\n",
      "Setting `pad_token_id` to `eos_token_id`:0 for open-end generation.\n"
     ]
    },
    {
     "ename": "AttributeError",
     "evalue": "'list' object has no attribute 'shape'",
     "output_type": "error",
     "traceback": [
      "\u001b[0;31m---------------------------------------------------------------------------\u001b[0m",
      "\u001b[0;31mAttributeError\u001b[0m                            Traceback (most recent call last)",
      "Cell \u001b[0;32mIn[7], line 1\u001b[0m\n\u001b[0;32m----> 1\u001b[0m \u001b[38;5;28mprint\u001b[39m(tokenizer\u001b[38;5;241m.\u001b[39mdecode(\u001b[43mmodel\u001b[49m\u001b[38;5;241;43m.\u001b[39;49m\u001b[43mgenerate\u001b[49m\u001b[43m(\u001b[49m\u001b[43m[\u001b[49m\u001b[43mtoks\u001b[49m\u001b[43m]\u001b[49m\u001b[43m)\u001b[49m))\n",
      "File \u001b[0;32m~/.local/lib/python3.11/site-packages/torch/utils/_contextlib.py:115\u001b[0m, in \u001b[0;36mcontext_decorator.<locals>.decorate_context\u001b[0;34m(*args, **kwargs)\u001b[0m\n\u001b[1;32m    112\u001b[0m \u001b[38;5;129m@functools\u001b[39m\u001b[38;5;241m.\u001b[39mwraps(func)\n\u001b[1;32m    113\u001b[0m \u001b[38;5;28;01mdef\u001b[39;00m \u001b[38;5;21mdecorate_context\u001b[39m(\u001b[38;5;241m*\u001b[39margs, \u001b[38;5;241m*\u001b[39m\u001b[38;5;241m*\u001b[39mkwargs):\n\u001b[1;32m    114\u001b[0m     \u001b[38;5;28;01mwith\u001b[39;00m ctx_factory():\n\u001b[0;32m--> 115\u001b[0m         \u001b[38;5;28;01mreturn\u001b[39;00m \u001b[43mfunc\u001b[49m\u001b[43m(\u001b[49m\u001b[38;5;241;43m*\u001b[39;49m\u001b[43margs\u001b[49m\u001b[43m,\u001b[49m\u001b[43m \u001b[49m\u001b[38;5;241;43m*\u001b[39;49m\u001b[38;5;241;43m*\u001b[39;49m\u001b[43mkwargs\u001b[49m\u001b[43m)\u001b[49m\n",
      "File \u001b[0;32m~/.local/lib/python3.11/site-packages/transformers/generation/utils.py:1459\u001b[0m, in \u001b[0;36mGenerationMixin.generate\u001b[0;34m(self, inputs, generation_config, logits_processor, stopping_criteria, prefix_allowed_tokens_fn, synced_gpus, assistant_model, streamer, negative_prompt_ids, negative_prompt_attention_mask, **kwargs)\u001b[0m\n\u001b[1;32m   1451\u001b[0m \u001b[38;5;66;03m# 3. Define model inputs\u001b[39;00m\n\u001b[1;32m   1452\u001b[0m \u001b[38;5;66;03m# inputs_tensor has to be defined\u001b[39;00m\n\u001b[1;32m   1453\u001b[0m \u001b[38;5;66;03m# model_input_name is defined if model-specific keyword input is passed\u001b[39;00m\n\u001b[1;32m   1454\u001b[0m \u001b[38;5;66;03m# otherwise model_input_name is None\u001b[39;00m\n\u001b[1;32m   1455\u001b[0m \u001b[38;5;66;03m# all model-specific keyword inputs are removed from `model_kwargs`\u001b[39;00m\n\u001b[1;32m   1456\u001b[0m inputs_tensor, model_input_name, model_kwargs \u001b[38;5;241m=\u001b[39m \u001b[38;5;28mself\u001b[39m\u001b[38;5;241m.\u001b[39m_prepare_model_inputs(\n\u001b[1;32m   1457\u001b[0m     inputs, generation_config\u001b[38;5;241m.\u001b[39mbos_token_id, model_kwargs\n\u001b[1;32m   1458\u001b[0m )\n\u001b[0;32m-> 1459\u001b[0m batch_size \u001b[38;5;241m=\u001b[39m \u001b[43minputs_tensor\u001b[49m\u001b[38;5;241;43m.\u001b[39;49m\u001b[43mshape\u001b[49m[\u001b[38;5;241m0\u001b[39m]\n\u001b[1;32m   1461\u001b[0m \u001b[38;5;66;03m# 4. Define other model kwargs\u001b[39;00m\n\u001b[1;32m   1462\u001b[0m model_kwargs[\u001b[38;5;124m\"\u001b[39m\u001b[38;5;124moutput_attentions\u001b[39m\u001b[38;5;124m\"\u001b[39m] \u001b[38;5;241m=\u001b[39m generation_config\u001b[38;5;241m.\u001b[39moutput_attentions\n",
      "\u001b[0;31mAttributeError\u001b[0m: 'list' object has no attribute 'shape'"
     ]
    }
   ],
   "source": [
    "print(tokenizer.decode(model.generate([toks])))"
   ]
  },
  {
   "cell_type": "code",
   "execution_count": null,
   "id": "409a7d8a-c73d-4732-91d6-5e3a97f943cc",
   "metadata": {},
   "outputs": [],
   "source": []
  }
 ],
 "metadata": {
  "kernelspec": {
   "display_name": "Python 3 (ipykernel)",
   "language": "python",
   "name": "python3"
  },
  "language_info": {
   "codemirror_mode": {
    "name": "ipython",
    "version": 3
   },
   "file_extension": ".py",
   "mimetype": "text/x-python",
   "name": "python",
   "nbconvert_exporter": "python",
   "pygments_lexer": "ipython3",
   "version": "3.11.5"
  }
 },
 "nbformat": 4,
 "nbformat_minor": 5
}
